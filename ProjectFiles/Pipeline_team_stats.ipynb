{
 "cells": [
  {
   "cell_type": "markdown",
   "metadata": {},
   "source": [
    "## PCA Pipeline Exploration\n",
    "I tidied up a few things from the EDA_pipeline file\n",
    "4/5/2020"
   ]
  },
  {
   "cell_type": "code",
   "execution_count": 1,
   "metadata": {},
   "outputs": [],
   "source": [
    "import pandas as pd\n",
    "import numpy as np\n",
    "from sklearn.preprocessing import LabelEncoder\n",
    "from sklearn.model_selection import train_test_split\n",
    "from sklearn.preprocessing import StandardScaler\n",
    "from sklearn.decomposition import PCA\n",
    "from sklearn.linear_model import LogisticRegression\n",
    "from sklearn.pipeline import make_pipeline\n",
    "from sklearn.model_selection import StratifiedKFold\n",
    "from sklearn.neural_network import MLPClassifier\n",
    "from sklearn.metrics import roc_curve, auc\n",
    "from numpy import interp\n",
    "from sklearn.model_selection import cross_val_score\n",
    "from sklearn.pipeline import Pipeline\n",
    "from sklearn.discriminant_analysis import LinearDiscriminantAnalysis as LDA"
   ]
  },
  {
   "cell_type": "code",
   "execution_count": 2,
   "metadata": {},
   "outputs": [
    {
     "data": {
      "text/html": [
       "<div>\n",
       "<style scoped>\n",
       "    .dataframe tbody tr th:only-of-type {\n",
       "        vertical-align: middle;\n",
       "    }\n",
       "\n",
       "    .dataframe tbody tr th {\n",
       "        vertical-align: top;\n",
       "    }\n",
       "\n",
       "    .dataframe thead th {\n",
       "        text-align: right;\n",
       "    }\n",
       "</style>\n",
       "<table border=\"1\" class=\"dataframe\">\n",
       "  <thead>\n",
       "    <tr style=\"text-align: right;\">\n",
       "      <th></th>\n",
       "      <th>Date</th>\n",
       "      <th>Home_Win</th>\n",
       "      <th>Home</th>\n",
       "      <th>Away</th>\n",
       "      <th>Win Percent Delta</th>\n",
       "      <th>Streak Delta</th>\n",
       "      <th>Run Scored Delta</th>\n",
       "      <th>Run Allowed Delta</th>\n",
       "      <th>Run Delta Delta</th>\n",
       "      <th>Run Delta Percent Delta</th>\n",
       "      <th>Win Total Delta</th>\n",
       "    </tr>\n",
       "  </thead>\n",
       "  <tbody>\n",
       "    <tr>\n",
       "      <th>0</th>\n",
       "      <td>thursday mar 28</td>\n",
       "      <td>W</td>\n",
       "      <td>OAK</td>\n",
       "      <td>LAA</td>\n",
       "      <td>0.000000</td>\n",
       "      <td>-2</td>\n",
       "      <td>11</td>\n",
       "      <td>14</td>\n",
       "      <td>-3</td>\n",
       "      <td>0.7857</td>\n",
       "      <td>0</td>\n",
       "    </tr>\n",
       "    <tr>\n",
       "      <th>1</th>\n",
       "      <td>friday mar 29</td>\n",
       "      <td>L</td>\n",
       "      <td>OAK</td>\n",
       "      <td>LAA</td>\n",
       "      <td>0.333333</td>\n",
       "      <td>2</td>\n",
       "      <td>15</td>\n",
       "      <td>10</td>\n",
       "      <td>5</td>\n",
       "      <td>1.0714</td>\n",
       "      <td>1</td>\n",
       "    </tr>\n",
       "    <tr>\n",
       "      <th>2</th>\n",
       "      <td>saturday mar 30</td>\n",
       "      <td>W</td>\n",
       "      <td>OAK</td>\n",
       "      <td>LAA</td>\n",
       "      <td>-0.250000</td>\n",
       "      <td>-2</td>\n",
       "      <td>11</td>\n",
       "      <td>14</td>\n",
       "      <td>-3</td>\n",
       "      <td>-0.1500</td>\n",
       "      <td>0</td>\n",
       "    </tr>\n",
       "    <tr>\n",
       "      <th>3</th>\n",
       "      <td>sunday mar 31</td>\n",
       "      <td>W</td>\n",
       "      <td>OAK</td>\n",
       "      <td>LAA</td>\n",
       "      <td>0.066667</td>\n",
       "      <td>2</td>\n",
       "      <td>13</td>\n",
       "      <td>12</td>\n",
       "      <td>1</td>\n",
       "      <td>0.1545</td>\n",
       "      <td>1</td>\n",
       "    </tr>\n",
       "    <tr>\n",
       "      <th>4</th>\n",
       "      <td>monday apr 1</td>\n",
       "      <td>W</td>\n",
       "      <td>SEA</td>\n",
       "      <td>LAA</td>\n",
       "      <td>0.583333</td>\n",
       "      <td>4</td>\n",
       "      <td>39</td>\n",
       "      <td>23</td>\n",
       "      <td>16</td>\n",
       "      <td>0.6214</td>\n",
       "      <td>4</td>\n",
       "    </tr>\n",
       "    <tr>\n",
       "      <th>...</th>\n",
       "      <td>...</td>\n",
       "      <td>...</td>\n",
       "      <td>...</td>\n",
       "      <td>...</td>\n",
       "      <td>...</td>\n",
       "      <td>...</td>\n",
       "      <td>...</td>\n",
       "      <td>...</td>\n",
       "      <td>...</td>\n",
       "      <td>...</td>\n",
       "      <td>...</td>\n",
       "    </tr>\n",
       "    <tr>\n",
       "      <th>2424</th>\n",
       "      <td>sunday apr 14</td>\n",
       "      <td>L</td>\n",
       "      <td>NYY</td>\n",
       "      <td>CHW</td>\n",
       "      <td>0.120879</td>\n",
       "      <td>2</td>\n",
       "      <td>12</td>\n",
       "      <td>-29</td>\n",
       "      <td>41</td>\n",
       "      <td>0.5459</td>\n",
       "      <td>2</td>\n",
       "    </tr>\n",
       "    <tr>\n",
       "      <th>2425</th>\n",
       "      <td>thursday jun 13</td>\n",
       "      <td>W</td>\n",
       "      <td>CHW</td>\n",
       "      <td>NYY</td>\n",
       "      <td>-0.136364</td>\n",
       "      <td>2</td>\n",
       "      <td>-75</td>\n",
       "      <td>50</td>\n",
       "      <td>-125</td>\n",
       "      <td>-0.4098</td>\n",
       "      <td>-9</td>\n",
       "    </tr>\n",
       "    <tr>\n",
       "      <th>2426</th>\n",
       "      <td>friday jun 14</td>\n",
       "      <td>W</td>\n",
       "      <td>CHW</td>\n",
       "      <td>NYY</td>\n",
       "      <td>-0.119403</td>\n",
       "      <td>4</td>\n",
       "      <td>-74</td>\n",
       "      <td>49</td>\n",
       "      <td>-123</td>\n",
       "      <td>-0.3972</td>\n",
       "      <td>-8</td>\n",
       "    </tr>\n",
       "    <tr>\n",
       "      <th>2427</th>\n",
       "      <td>saturday jun 15</td>\n",
       "      <td>L</td>\n",
       "      <td>CHW</td>\n",
       "      <td>NYY</td>\n",
       "      <td>-0.102941</td>\n",
       "      <td>6</td>\n",
       "      <td>-66</td>\n",
       "      <td>41</td>\n",
       "      <td>-107</td>\n",
       "      <td>-0.3382</td>\n",
       "      <td>-7</td>\n",
       "    </tr>\n",
       "    <tr>\n",
       "      <th>2428</th>\n",
       "      <td>sunday jun 16</td>\n",
       "      <td>L</td>\n",
       "      <td>CHW</td>\n",
       "      <td>NYY</td>\n",
       "      <td>-0.115942</td>\n",
       "      <td>-2</td>\n",
       "      <td>-70</td>\n",
       "      <td>45</td>\n",
       "      <td>-115</td>\n",
       "      <td>-0.3571</td>\n",
       "      <td>-8</td>\n",
       "    </tr>\n",
       "  </tbody>\n",
       "</table>\n",
       "<p>2429 rows × 11 columns</p>\n",
       "</div>"
      ],
      "text/plain": [
       "                 Date Home_Win Home Away  Win Percent Delta  Streak Delta  \\\n",
       "0     thursday mar 28        W  OAK  LAA           0.000000            -2   \n",
       "1       friday mar 29        L  OAK  LAA           0.333333             2   \n",
       "2     saturday mar 30        W  OAK  LAA          -0.250000            -2   \n",
       "3       sunday mar 31        W  OAK  LAA           0.066667             2   \n",
       "4        monday apr 1        W  SEA  LAA           0.583333             4   \n",
       "...               ...      ...  ...  ...                ...           ...   \n",
       "2424    sunday apr 14        L  NYY  CHW           0.120879             2   \n",
       "2425  thursday jun 13        W  CHW  NYY          -0.136364             2   \n",
       "2426    friday jun 14        W  CHW  NYY          -0.119403             4   \n",
       "2427  saturday jun 15        L  CHW  NYY          -0.102941             6   \n",
       "2428    sunday jun 16        L  CHW  NYY          -0.115942            -2   \n",
       "\n",
       "      Run Scored Delta  Run Allowed Delta  Run Delta Delta  \\\n",
       "0                   11                 14               -3   \n",
       "1                   15                 10                5   \n",
       "2                   11                 14               -3   \n",
       "3                   13                 12                1   \n",
       "4                   39                 23               16   \n",
       "...                ...                ...              ...   \n",
       "2424                12                -29               41   \n",
       "2425               -75                 50             -125   \n",
       "2426               -74                 49             -123   \n",
       "2427               -66                 41             -107   \n",
       "2428               -70                 45             -115   \n",
       "\n",
       "      Run Delta Percent Delta  Win Total Delta  \n",
       "0                      0.7857                0  \n",
       "1                      1.0714                1  \n",
       "2                     -0.1500                0  \n",
       "3                      0.1545                1  \n",
       "4                      0.6214                4  \n",
       "...                       ...              ...  \n",
       "2424                   0.5459                2  \n",
       "2425                  -0.4098               -9  \n",
       "2426                  -0.3972               -8  \n",
       "2427                  -0.3382               -7  \n",
       "2428                  -0.3571               -8  \n",
       "\n",
       "[2429 rows x 11 columns]"
      ]
     },
     "execution_count": 2,
     "metadata": {},
     "output_type": "execute_result"
    }
   ],
   "source": [
    "#Get CSV's into memory\n",
    "df = pd.read_csv(\"2019_all_delta_extra.csv\")\n",
    "team_runs = {}\n",
    "\n",
    "def get_teams():\n",
    "    teams = [item.strip() for item in open(\"all_teams.txt\",'r')]\n",
    "    return teams\n",
    "\n",
    "teams = get_teams()\n",
    "\n",
    "df"
   ]
  },
  {
   "cell_type": "code",
   "execution_count": 3,
   "metadata": {},
   "outputs": [],
   "source": [
    "X = df.loc[:,df.columns[4:]].values\n",
    "y = df.loc[:,df.columns[1]].values"
   ]
  },
  {
   "cell_type": "code",
   "execution_count": 4,
   "metadata": {},
   "outputs": [],
   "source": [
    "#create win/loss mask\n",
    "wins = df.loc[:,'Home_Win'] == 'W'\n",
    "losses = df.loc[:,'Home_Win'] != 'W'"
   ]
  },
  {
   "cell_type": "code",
   "execution_count": 5,
   "metadata": {},
   "outputs": [
    {
     "data": {
      "text/plain": [
       "array([1, 0], dtype=int64)"
      ]
     },
     "execution_count": 5,
     "metadata": {},
     "output_type": "execute_result"
    }
   ],
   "source": [
    "from sklearn.preprocessing import StandardScaler\n",
    "from sklearn.preprocessing import LabelEncoder\n",
    "scaler = StandardScaler()\n",
    "X_transform = scaler.fit_transform(X)\n",
    "le = LabelEncoder()\n",
    "y_label = le.fit_transform(y)\n",
    "le.transform(['W','L'])"
   ]
  },
  {
   "cell_type": "code",
   "execution_count": 6,
   "metadata": {},
   "outputs": [],
   "source": [
    "X_train, X_test, y_train, y_test = \\\n",
    "    train_test_split(X_transform, y_label, \n",
    "                     test_size=0.25,\n",
    "                     stratify=y_label,\n",
    "                     random_state=1)"
   ]
  },
  {
   "cell_type": "code",
   "execution_count": 7,
   "metadata": {},
   "outputs": [
    {
     "name": "stdout",
     "output_type": "stream",
     "text": [
      "Eigenvalues: [ 4.37076290e+00  8.71837589e-01  6.88902588e-01  7.84865838e-01\n",
      "  2.35265262e-01  5.12488495e-02 -3.71637686e-16]\n"
     ]
    }
   ],
   "source": [
    "from numpy import array\n",
    "from numpy import mean\n",
    "from numpy import cov\n",
    "from numpy.linalg import eig\n",
    "# define a matrix\n",
    "A = array(X_transform)\n",
    "\n",
    "# calculate the mean of each column\n",
    "M = mean(A.T, axis=1)\n",
    "\n",
    "# center columns by subtracting column means\n",
    "C = A - M\n",
    "\n",
    "# calculate covariance matrix of centered matrix. This is how much each columns varies with other columns\n",
    "V = cov(C.T)\n",
    "\n",
    "# eigendecomposition of covariance matrix.  The larger the eigenvalue, the more it matters\n",
    "values, vectors = eig(V)\n",
    "print(f'Eigenvalues: {values}')\n",
    "\n",
    "# project data using the covariance matrix and the eigenvectors\n",
    "P = vectors.T.dot(C.T)\n",
    "\n",
    "xval = np.array([item[0] for item in P.T])\n",
    "yval = np.array([item[1] for item in P.T])"
   ]
  },
  {
   "cell_type": "code",
   "execution_count": 8,
   "metadata": {},
   "outputs": [
    {
     "data": {
      "image/png": "[encoded data removed]",
      "text/plain": [
       "<Figure size 432x288 with 1 Axes>"
      ]
     },
     "metadata": {
      "needs_background": "light"
     },
     "output_type": "display_data"
    }
   ],
   "source": [
    "def create_scree(vector):\n",
    "    total = sum(vector)\n",
    "    percent = vector/total\n",
    "    return percent\n",
    "\n",
    "import matplotlib.pyplot as plt\n",
    "\n",
    "plt.title('Scree Plot of EigenValues')\n",
    "plt.ylabel('Percent')\n",
    "plt.xlabel('Feature Index')\n",
    "plt.bar([x for x in range(len(values))], create_scree(values), align='center', alpha=0.5)\n",
    "plt.show()"
   ]
  },
  {
   "cell_type": "code",
   "execution_count": 9,
   "metadata": {},
   "outputs": [
    {
     "name": "stdout",
     "output_type": "stream",
     "text": [
      "[0.62413764 0.12449695 0.11207753 0.09837414 0.03359549]\n",
      "[103.01559266  46.0089303   43.65380001  40.89811099  23.90029408]\n"
     ]
    }
   ],
   "source": [
    "#confirming results with sklearn package\n",
    "pca = PCA(n_components=5, svd_solver='full')\n",
    "pca.fit(X_transform)\n",
    "print(pca.explained_variance_ratio_)\n",
    "print(pca.singular_values_)\n"
   ]
  },
  {
   "cell_type": "markdown",
   "metadata": {},
   "source": [
    "### Comparing the results of Pipeline with Make_pipeline... small variation which I find odd"
   ]
  },
  {
   "cell_type": "code",
   "execution_count": 10,
   "metadata": {},
   "outputs": [
    {
     "data": {
      "text/plain": [
       "0.5904605263157895"
      ]
     },
     "execution_count": 10,
     "metadata": {},
     "output_type": "execute_result"
    }
   ],
   "source": [
    "pca = PCA()\n",
    "# set the tolerance to a large value to make the example faster\n",
    "logistic = LogisticRegression(max_iter=10000, tol=0.1)\n",
    "pipe = Pipeline(steps=[('pca', pca), ('logistic', logistic)])\n",
    "pipe.fit(X_train,y_train)\n",
    "pipe.score(X_test,y_test)"
   ]
  },
  {
   "cell_type": "code",
   "execution_count": 18,
   "metadata": {},
   "outputs": [
    {
     "name": "stdout",
     "output_type": "stream",
     "text": [
      "CV accuracy scores: [0.62962963 0.61728395 0.56378601 0.52263374 0.52263374 0.58024691\n",
      " 0.60082305 0.6255144  0.5473251  0.6446281 ]\n",
      "CV accuracy: 0.585 +/- 0.043\n"
     ]
    }
   ],
   "source": [
    "scores = cross_val_score(estimator=pipe,\n",
    "                             X=X_transform,\n",
    "                             y=y_label,\n",
    "                             cv=10,\n",
    "                             n_jobs=1)\n",
    "print('CV accuracy scores: %s' % scores)\n",
    "print('CV accuracy: %.3f +/- %.3f' % (np.mean(scores), np.std(scores)))"
   ]
  },
  {
   "cell_type": "code",
   "execution_count": 22,
   "metadata": {},
   "outputs": [
    {
     "name": "stdout",
     "output_type": "stream",
     "text": [
      "PCA components unset score: 0.592\n",
      "PCA components set to 2 score: 0.574\n"
     ]
    }
   ],
   "source": [
    "# no value for PCA components\n",
    "pipe_lr = make_pipeline(PCA(),\n",
    "                        LogisticRegression(penalty='l2', \n",
    "                                           solver='lbfgs',\n",
    "                                           max_iter=10000,\n",
    "                                           C=21.54,\n",
    "                                           tol=0.1))\n",
    "pipe_lr.fit(X_train,y_train)\n",
    "print(f'PCA components unset score: {round(pipe_lr.score(X_test,y_test),3)}')\n",
    "\n",
    "pipe_lr2 = make_pipeline(PCA(n_components=2),\n",
    "                        LogisticRegression(penalty='l2', \n",
    "                                           solver='lbfgs',\n",
    "                                           max_iter=10000,\n",
    "                                           C=21.54,\n",
    "                                           tol=0.1))\n",
    "pipe_lr2.fit(X_train,y_train)\n",
    "print(f'PCA components set to 2 score: {round(pipe_lr2.score(X_test,y_test),3)}')"
   ]
  },
  {
   "cell_type": "code",
   "execution_count": 23,
   "metadata": {},
   "outputs": [
    {
     "name": "stdout",
     "output_type": "stream",
     "text": [
      "CV accuracy scores: [0.62962963 0.61728395 0.56378601 0.52263374 0.52263374 0.58024691\n",
      " 0.60082305 0.6255144  0.5473251  0.6446281 ]\n",
      "CV accuracy: 0.585 +/- 0.043\n"
     ]
    }
   ],
   "source": [
    "#PCA unlimited\n",
    "scores = cross_val_score(estimator=pipe_lr,\n",
    "                             X=X_transform,\n",
    "                             y=y_label,\n",
    "                             cv=10,\n",
    "                             n_jobs=1)\n",
    "print('CV accuracy scores: %s' % scores)\n",
    "print('CV accuracy: %.3f +/- %.3f' % (np.mean(scores), np.std(scores)))"
   ]
  },
  {
   "cell_type": "code",
   "execution_count": 24,
   "metadata": {},
   "outputs": [
    {
     "name": "stdout",
     "output_type": "stream",
     "text": [
      "CV accuracy scores: [0.61728395 0.62139918 0.58024691 0.52674897 0.52263374 0.59670782\n",
      " 0.63374486 0.62962963 0.58436214 0.63636364]\n",
      "CV accuracy: 0.595 +/- 0.040\n"
     ]
    }
   ],
   "source": [
    "#PCA with 2\n",
    "scores = cross_val_score(estimator=pipe_lr2,\n",
    "                             X=X_transform,\n",
    "                             y=y_label,\n",
    "                             cv=10,\n",
    "                             n_jobs=1)\n",
    "print('CV accuracy scores: %s' % scores)\n",
    "print('CV accuracy: %.3f +/- %.3f' % (np.mean(scores), np.std(scores)))"
   ]
  },
  {
   "cell_type": "markdown",
   "metadata": {},
   "source": [
    "### Grid search indicates that n components of 2 should be best, but when I don't set that variable in the pipeline it actually performs better"
   ]
  },
  {
   "cell_type": "code",
   "execution_count": 12,
   "metadata": {},
   "outputs": [
    {
     "name": "stdout",
     "output_type": "stream",
     "text": [
      "Best parameter (CV score=0.599):\n",
      "{'logistic__C': 21.54434690031882, 'pca__n_components': 2}\n"
     ]
    },
    {
     "data": {
      "image/png": "[encoded data removed]",
      "text/plain": [
       "<Figure size 720x576 with 2 Axes>"
      ]
     },
     "metadata": {
      "needs_background": "light"
     },
     "output_type": "display_data"
    }
   ],
   "source": [
    "from sklearn.model_selection import GridSearchCV\n",
    "\n",
    "# Define a pipeline to search for the best combination of PCA truncation\n",
    "# and classifier regularization.\n",
    "pca = PCA()\n",
    "# set the tolerance to a large value to make the example faster\n",
    "logistic = LogisticRegression(max_iter=10000, tol=0.1)\n",
    "pipe = Pipeline(steps=[('pca', pca), ('logistic', logistic)])\n",
    "\n",
    "# Parameters of pipelines can be set using ‘__’ separated parameter names:\n",
    "param_grid = {\n",
    "    'pca__n_components': [2, 3, 4, 5, 6, 7],\n",
    "    'logistic__C': np.logspace(-4, 4, 4),\n",
    "}\n",
    "search = GridSearchCV(pipe, param_grid, n_jobs=-1)\n",
    "search.fit(X_train, y_train)\n",
    "print(\"Best parameter (CV score=%0.3f):\" % search.best_score_)\n",
    "print(search.best_params_)\n",
    "\n",
    "# Plot the PCA spectrum\n",
    "pca.fit(X_train)\n",
    "\n",
    "\n",
    "fig, (ax0, ax1) = plt.subplots(nrows=2, sharex=True, figsize=(10, 8))\n",
    "ax0.plot(np.arange(1, pca.n_components_ + 1),\n",
    "         pca.explained_variance_ratio_, '+', linewidth=2)\n",
    "ax0.set_ylabel('PCA explained variance ratio')\n",
    "\n",
    "ax0.axvline(search.best_estimator_.named_steps['pca'].n_components,\n",
    "            linestyle=':', label='n_components chosen')\n",
    "ax0.legend(prop=dict(size=12))\n",
    "\n",
    "# For each number of components, find the best classifier results\n",
    "results = pd.DataFrame(search.cv_results_)\n",
    "components_col = 'param_pca__n_components'\n",
    "best_clfs = results.groupby(components_col).apply(\n",
    "    lambda g: g.nlargest(1, 'mean_test_score'))\n",
    "\n",
    "best_clfs.plot(x=components_col, y='mean_test_score', yerr='std_test_score',\n",
    "               legend=False, ax=ax1)\n",
    "ax1.set_ylabel('Classification accuracy (val)')\n",
    "ax1.set_xlabel('n_components')\n",
    "\n",
    "plt.xlim(-1, 9)\n",
    "\n",
    "plt.tight_layout()\n",
    "plt.show()"
   ]
  },
  {
   "cell_type": "markdown",
   "metadata": {},
   "source": [
    "## There is little separation of the data using PCA"
   ]
  },
  {
   "cell_type": "code",
   "execution_count": 13,
   "metadata": {},
   "outputs": [
    {
     "data": {
      "image/png": "[encoded data removed]",
      "text/plain": [
       "<Figure size 432x288 with 1 Axes>"
      ]
     },
     "metadata": {
      "needs_background": "light"
     },
     "output_type": "display_data"
    }
   ],
   "source": [
    "import matplotlib.pyplot as plt\n",
    "\n",
    "#plot loses as red and wins as green\n",
    "plt.scatter(xval[losses], yval[losses], color='red')                            \n",
    "plt.scatter(xval[wins], yval[wins], color='green')\n",
    "\n",
    "plt.title('PCA analysis of Win/Loss Dataset')\n",
    "plt.xlabel('PC1')\n",
    "plt.ylabel('PC2')\n",
    "plt.savefig(\"Images\\\\PCA_7.png\")\n",
    "plt.show()"
   ]
  },
  {
   "cell_type": "markdown",
   "metadata": {},
   "source": [
    "## PCA --> Logistic Pipeline"
   ]
  },
  {
   "cell_type": "code",
   "execution_count": 16,
   "metadata": {},
   "outputs": [
    {
     "data": {
      "text/plain": [
       "0.5740131578947368"
      ]
     },
     "execution_count": 16,
     "metadata": {},
     "output_type": "execute_result"
    }
   ],
   "source": [
    "pipe_lr = make_pipeline(PCA(n_components=2),\n",
    "                        LogisticRegression(penalty='l2', \n",
    "                                           solver='lbfgs',\n",
    "                                           max_iter=10000,\n",
    "                                           C=21.54,\n",
    "                                           tol=0.1))\n",
    "pipe_lr.fit(X_train,y_train)\n",
    "pipe_lr.score(X_test,y_test)"
   ]
  },
  {
   "cell_type": "markdown",
   "metadata": {},
   "source": [
    "## This is the best result I have gotten... even better than the NN"
   ]
  },
  {
   "cell_type": "code",
   "execution_count": 15,
   "metadata": {},
   "outputs": [
    {
     "name": "stdout",
     "output_type": "stream",
     "text": [
      "CV accuracy: 0.595 +/- 0.040\n"
     ]
    }
   ],
   "source": [
    "#sklearn has a cross validator built in so we don't need to loop through things manuially\n",
    "scores = cross_val_score(estimator=pipe_lr,\n",
    "                         X=X_transform,\n",
    "                         y=y_label,\n",
    "                         cv=10,\n",
    "                         n_jobs=1)\n",
    "#print('CV accuracy scores: %s' % scores)\n",
    "print('CV accuracy: %.3f +/- %.3f' % (np.mean(scores), np.std(scores)))"
   ]
  },
  {
   "cell_type": "markdown",
   "metadata": {},
   "source": [
    "This is about 4% higher than the other pipeline, and unlike the NN it's accuracy does not change with each iteration"
   ]
  },
  {
   "cell_type": "markdown",
   "metadata": {},
   "source": [
    "# PCA -> NN Pipeline"
   ]
  },
  {
   "cell_type": "code",
   "execution_count": 25,
   "metadata": {},
   "outputs": [
    {
     "data": {
      "image/png": "[encoded data removed]",
      "text/plain": [
       "<Figure size 720x576 with 1 Axes>"
      ]
     },
     "metadata": {
      "needs_background": "light"
     },
     "output_type": "display_data"
    }
   ],
   "source": [
    "pipe_lr = make_pipeline(StandardScaler(),\n",
    "                        PCA(n_components=2),\n",
    "                        MLPClassifier(activation = \"logistic\", \n",
    "                                      solver='sgd',\n",
    "                                      learning_rate_init = 0.1,\n",
    "                                      learning_rate = \"constant\",\n",
    "                                      momentum = 0.1,\n",
    "                                      max_iter = 10000))\n",
    "                    \n",
    "# here we are selecting only 2 features from the dataset\n",
    "X_train2 = X_train\n",
    "#[:, [0,2,3]]\n",
    "    \n",
    "#You can set the cross validator here with the number of splits\n",
    "cv = list(StratifiedKFold(n_splits=10).split(X_train, y_train))\n",
    "\n",
    "fig = plt.figure(figsize=(10, 8))\n",
    "\n",
    "mean_tpr = 0.0\n",
    "mean_fpr = np.linspace(0, 1, 100)\n",
    "all_tpr = []\n",
    "\n",
    "for i, (train, test) in enumerate(cv):\n",
    "    #Xtrain2 is used here for the fit, using only the features chosen above.  If you use the Xtrain data it will get 100%\n",
    "    probas = pipe_lr.fit(X_train2[train],\n",
    "                         y_train[train]).predict_proba(X_train2[test])\n",
    "\n",
    "    fpr, tpr, thresholds = roc_curve(y_train[test],\n",
    "                                     probas[:, 1],\n",
    "                                     pos_label=1)\n",
    "    mean_tpr += interp(mean_fpr, fpr, tpr)\n",
    "    mean_tpr[0] = 0.0\n",
    "    roc_auc = auc(fpr, tpr)\n",
    "    plt.plot(fpr,\n",
    "             tpr,\n",
    "             label='ROC fold %d (area = %0.2f)'\n",
    "                   % (i+1, roc_auc))\n",
    "plt.plot([0, 1],\n",
    "         [0, 1],\n",
    "         linestyle='--',\n",
    "         color=(0.6, 0.6, 0.6),\n",
    "         label='Random guessing')\n",
    "\n",
    "mean_tpr /= len(cv)\n",
    "mean_tpr[-1] = 1.0\n",
    "mean_auc = auc(mean_fpr, mean_tpr)\n",
    "plt.plot(mean_fpr, mean_tpr, 'k--',\n",
    "         label='Mean ROC (area = %0.2f)' % mean_auc, lw=2)\n",
    "plt.plot([0, 0, 1],\n",
    "         [0, 1, 1],\n",
    "         linestyle=':',\n",
    "         color='black',\n",
    "         label='Perfect performance')\n",
    "\n",
    "plt.xlim([-0.05, 1.05])\n",
    "plt.ylim([-0.05, 1.05])\n",
    "plt.title(\"PCA->NN Pipeline ROC 7 features\")\n",
    "plt.xlabel('False positive rate')\n",
    "plt.ylabel('True positive rate')\n",
    "plt.legend(loc=\"lower right\")\n",
    "\n",
    "plt.tight_layout()\n",
    "plt.savefig('Images\\\\ROC_7.png')\n",
    "plt.show()"
   ]
  },
  {
   "cell_type": "markdown",
   "metadata": {},
   "source": [
    "## NN results"
   ]
  },
  {
   "cell_type": "code",
   "execution_count": 17,
   "metadata": {},
   "outputs": [
    {
     "name": "stdout",
     "output_type": "stream",
     "text": [
      "CV accuracy: 0.584 +/- 0.028\n",
      "CV accuracy: 0.578 +/- 0.032\n",
      "CV accuracy: 0.589 +/- 0.041\n",
      "CV accuracy: 0.588 +/- 0.026\n",
      "CV accuracy: 0.582 +/- 0.028\n",
      "CV accuracy: 0.590 +/- 0.034\n",
      "CV accuracy: 0.584 +/- 0.034\n",
      "CV accuracy: 0.586 +/- 0.030\n",
      "CV accuracy: 0.591 +/- 0.040\n",
      "CV accuracy: 0.583 +/- 0.033\n"
     ]
    }
   ],
   "source": [
    "#sklearn has a cross validator built in so we don't need to loop through things manuially\n",
    "for i in range(0,10):\n",
    "    scores = cross_val_score(estimator=pipe_lr,\n",
    "                             X=X_transform,\n",
    "                             y=y_label,\n",
    "                             cv=10,\n",
    "                             n_jobs=1)\n",
    "    #print('CV accuracy scores: %s' % scores)\n",
    "    print('CV accuracy: %.3f +/- %.3f' % (np.mean(scores), np.std(scores)))"
   ]
  },
  {
   "cell_type": "markdown",
   "metadata": {},
   "source": [
    "The PCA-> NN achieves ~58% accuracy"
   ]
  },
  {
   "cell_type": "markdown",
   "metadata": {},
   "source": [
    "# Naive Bayes\n"
   ]
  },
  {
   "cell_type": "code",
   "execution_count": 30,
   "metadata": {},
   "outputs": [
    {
     "name": "stdout",
     "output_type": "stream",
     "text": [
      "Number of mislabeled points out of a total 608 points : 262\n",
      "Accuracy: 0.569\n"
     ]
    },
    {
     "data": {
      "text/plain": [
       "0.569078947368421"
      ]
     },
     "execution_count": 30,
     "metadata": {},
     "output_type": "execute_result"
    }
   ],
   "source": [
    "from sklearn.naive_bayes import GaussianNB\n",
    "gnb = GaussianNB()\n",
    "y_pred = gnb.fit(X_train, y_train).predict(X_test)\n",
    "print(\"Number of mislabeled points out of a total %d points : %d\"\n",
    "      % (X_test.shape[0], (y_test != y_pred).sum()))\n",
    "print(f'Accuracy: {round(1-((y_test != y_pred).sum()/X_test.shape[0]),3)}')\n",
    "gnb.score(X_test, y_test)"
   ]
  },
  {
   "cell_type": "code",
   "execution_count": 31,
   "metadata": {},
   "outputs": [
    {
     "name": "stdout",
     "output_type": "stream",
     "text": [
      "CV accuracy scores: [0.58847737 0.61316872 0.57201646 0.51851852 0.5308642  0.59259259\n",
      " 0.59670782 0.60082305 0.55967078 0.62396694]\n",
      "CV accuracy: 0.580 +/- 0.033\n"
     ]
    }
   ],
   "source": [
    "scores = cross_val_score(estimator=gnb,\n",
    "                             X=X_transform,\n",
    "                             y=y_label,\n",
    "                             cv=10,\n",
    "                             n_jobs=1)\n",
    "print('CV accuracy scores: %s' % scores)\n",
    "print('CV accuracy: %.3f +/- %.3f' % (np.mean(scores), np.std(scores)))"
   ]
  },
  {
   "cell_type": "markdown",
   "metadata": {},
   "source": [
    "### Putting Naive Bayes into a pipeline with PCA does not do anything for the final results, unsurprisingly"
   ]
  },
  {
   "cell_type": "code",
   "execution_count": 32,
   "metadata": {},
   "outputs": [
    {
     "data": {
      "text/plain": [
       "0.5838815789473685"
      ]
     },
     "execution_count": 32,
     "metadata": {},
     "output_type": "execute_result"
    }
   ],
   "source": [
    "pipe_lr = make_pipeline(PCA(),\n",
    "                        GaussianNB())\n",
    "pipe_lr.fit(X_train, y_train)\n",
    "pipe_lr.score(X_test, y_test)"
   ]
  },
  {
   "cell_type": "code",
   "execution_count": 22,
   "metadata": {},
   "outputs": [
    {
     "name": "stdout",
     "output_type": "stream",
     "text": [
      "CV accuracy scores: [0.58847737 0.61316872 0.57201646 0.51851852 0.5308642  0.59259259\n",
      " 0.59670782 0.60082305 0.55967078 0.62396694]\n",
      "CV accuracy: 0.580 +/- 0.033\n"
     ]
    }
   ],
   "source": [
    "scores = cross_val_score(estimator=gnb,\n",
    "                             X=X_transform,\n",
    "                             y=y_label,\n",
    "                             cv=10,\n",
    "                             n_jobs=1)\n",
    "print('CV accuracy scores: %s' % scores)\n",
    "print('CV accuracy: %.3f +/- %.3f' % (np.mean(scores), np.std(scores)))"
   ]
  },
  {
   "cell_type": "markdown",
   "metadata": {},
   "source": [
    "## Decision Tree"
   ]
  },
  {
   "cell_type": "code",
   "execution_count": 28,
   "metadata": {},
   "outputs": [
    {
     "name": "stdout",
     "output_type": "stream",
     "text": [
      "CV accuracy scores: [0.6090535  0.60493827 0.56790123 0.52674897 0.51440329 0.58024691\n",
      " 0.61728395 0.58024691 0.56378601 0.61983471]\n",
      "CV accuracy: 0.578 +/- 0.035\n"
     ]
    }
   ],
   "source": [
    "from sklearn.tree import DecisionTreeClassifier\n",
    "tree_model = DecisionTreeClassifier(criterion='gini', \n",
    "                                    max_depth=3, \n",
    "                                    random_state=1)\n",
    "tree_model.fit(X_train, y_train)\n",
    "scores = cross_val_score(estimator=tree_model,\n",
    "                             X=X_transform,\n",
    "                             y=y_label,\n",
    "                             cv=10,\n",
    "                             n_jobs=1)\n",
    "print('CV accuracy scores: %s' % scores)\n",
    "print('CV accuracy: %.3f +/- %.3f' % (np.mean(scores), np.std(scores)))"
   ]
  },
  {
   "cell_type": "markdown",
   "metadata": {},
   "source": [
    "### Putting the PCA into the decision tree did, however, result in a slight improvement (probably negligible)"
   ]
  },
  {
   "cell_type": "code",
   "execution_count": 29,
   "metadata": {},
   "outputs": [
    {
     "name": "stdout",
     "output_type": "stream",
     "text": [
      "CV accuracy scores: [0.62962963 0.60082305 0.55555556 0.55967078 0.56378601 0.57201646\n",
      " 0.58847737 0.56378601 0.55967078 0.61570248]\n",
      "CV accuracy: 0.581 +/- 0.025\n"
     ]
    }
   ],
   "source": [
    "pipe_lr = make_pipeline(PCA(),\n",
    "                        DecisionTreeClassifier(criterion='gini',\n",
    "                                               max_depth=3,\n",
    "                                               random_state=1))\n",
    "pipe_lr.fit(X_train, y_train)\n",
    "scores = cross_val_score(estimator=pipe_lr,\n",
    "                             X=X_transform,\n",
    "                             y=y_label,\n",
    "                             cv=10,\n",
    "                             n_jobs=1)\n",
    "print('CV accuracy scores: %s' % scores)\n",
    "print('CV accuracy: %.3f +/- %.3f' % (np.mean(scores), np.std(scores)))"
   ]
  },
  {
   "cell_type": "markdown",
   "metadata": {},
   "source": [
    "## PCA --> NN"
   ]
  },
  {
   "cell_type": "code",
   "execution_count": 27,
   "metadata": {},
   "outputs": [
    {
     "data": {
      "text/plain": [
       "0.5888157894736842"
      ]
     },
     "execution_count": 27,
     "metadata": {},
     "output_type": "execute_result"
    }
   ],
   "source": [
    "pipe_lr = make_pipeline(PCA(n_components=2),\n",
    "                        MLPClassifier(activation = \"logistic\", \n",
    "                                      solver='sgd',\n",
    "                                      learning_rate_init = 0.1,\n",
    "                                      learning_rate = \"constant\",\n",
    "                                      momentum = 0.1,\n",
    "                                      max_iter = 10000))\n",
    "pipe_lr.fit(X_train, y_train)\n",
    "scores = cross_val_score(estimator=pipe_lr,\n",
    "                             X=X_transform,\n",
    "                             y=y_label,\n",
    "                             cv=10,\n",
    "                             n_jobs=1)\n",
    "print('CV accuracy scores: %s' % scores)\n",
    "print('CV accuracy: %.3f +/- %.3f' % (np.mean(scores), np.std(scores)))"
   ]
  },
  {
   "cell_type": "markdown",
   "metadata": {},
   "source": [
    "## LDA --> NN\n"
   ]
  },
  {
   "cell_type": "code",
   "execution_count": 34,
   "metadata": {},
   "outputs": [
    {
     "name": "stdout",
     "output_type": "stream",
     "text": [
      "CV accuracy: 0.581 +/- 0.032\n",
      "CV accuracy: 0.575 +/- 0.035\n",
      "CV accuracy: 0.577 +/- 0.037\n",
      "CV accuracy: 0.576 +/- 0.041\n",
      "CV accuracy: 0.583 +/- 0.036\n"
     ]
    }
   ],
   "source": [
    "pipe_lr = make_pipeline(LDA(),\n",
    "                        MLPClassifier(activation = \"logistic\", \n",
    "                                      solver='sgd',\n",
    "                                      learning_rate_init = 0.1,\n",
    "                                      learning_rate = \"constant\",\n",
    "                                      momentum = 0.1,\n",
    "                                      max_iter = 10000))\n",
    "pipe_lr.fit(X_train, y_train)\n",
    "for i in range(5):\n",
    "    scores = cross_val_score(estimator=pipe_lr,\n",
    "                                 X=X_transform,\n",
    "                                 y=y_label,\n",
    "                                 cv=10,\n",
    "                                 n_jobs=1)\n",
    "    #print('CV accuracy scores: %s' % scores)\n",
    "    print('CV accuracy: %.3f +/- %.3f' % (np.mean(scores), np.std(scores)))"
   ]
  },
  {
   "cell_type": "markdown",
   "metadata": {},
   "source": [
    "## LDA"
   ]
  },
  {
   "cell_type": "code",
   "execution_count": 33,
   "metadata": {},
   "outputs": [
    {
     "data": {
      "text/plain": [
       "0.5855263157894737"
      ]
     },
     "execution_count": 33,
     "metadata": {},
     "output_type": "execute_result"
    }
   ],
   "source": [
    "lda = LDA()\n",
    "lda.fit(X_train,y_train)\n",
    "scores = cross_val_score(estimator=lda,\n",
    "                             X=X_transform,\n",
    "                             y=y_label,\n",
    "                             cv=10,\n",
    "                             n_jobs=1)\n",
    "print('CV accuracy scores: %s' % scores)\n",
    "print('CV accuracy: %.3f +/- %.3f' % (np.mean(scores), np.std(scores)))"
   ]
  }
 ],
 "metadata": {
  "kernelspec": {
   "display_name": "Python 3",
   "language": "python",
   "name": "python3"
  },
  "language_info": {
   "codemirror_mode": {
    "name": "ipython",
    "version": 3
   },
   "file_extension": ".py",
   "mimetype": "text/x-python",
   "name": "python",
   "nbconvert_exporter": "python",
   "pygments_lexer": "ipython3",
   "version": "3.7.6"
  }
 },
 "nbformat": 4,
 "nbformat_minor": 4
}
