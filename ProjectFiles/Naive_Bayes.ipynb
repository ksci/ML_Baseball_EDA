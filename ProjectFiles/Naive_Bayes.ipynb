{
 "cells": [
  {
   "cell_type": "markdown",
   "metadata": {},
   "source": [
    "# Naive Bayes\n",
    "4/3 First I tried naive bayes on the entire data set used in the pipeline project, runs allwed total, etc and got ~55% accuracy.  Using just delta win percentage gives ~57.5% - almost breaking even with the straight odds of just going with the higher rated team which is 58%.  Cross validation puts the odds exactly at what you'd expect ~58%\n",
    "\n",
    "Naive Bayes goes down with increasing features (0.576)\n",
    "\n",
    "BUT, if the features are then labelled (simply as True for greater than 0 and False otherwise, the CV produces 0.599 - 59%.  The first time it's been better in awhile!!\n",
    "\n",
    "I used 60% test size"
   ]
  },
  {
   "cell_type": "code",
   "execution_count": 1,
   "metadata": {},
   "outputs": [],
   "source": [
    "import pandas as pd\n",
    "import numpy as np\n",
    "from sklearn.preprocessing import LabelEncoder\n",
    "from sklearn.model_selection import train_test_split\n",
    "from sklearn.preprocessing import StandardScaler\n",
    "from sklearn.decomposition import PCA\n",
    "from sklearn.linear_model import LogisticRegression\n",
    "from sklearn.pipeline import make_pipeline\n",
    "from sklearn.model_selection import StratifiedKFold\n",
    "from sklearn.neural_network import MLPClassifier\n",
    "from sklearn.metrics import roc_curve, auc\n",
    "from numpy import interp\n",
    "from sklearn.model_selection import cross_val_score"
   ]
  },
  {
   "cell_type": "code",
   "execution_count": 2,
   "metadata": {},
   "outputs": [
    {
     "data": {
      "text/html": [
       "<div>\n",
       "<style scoped>\n",
       "    .dataframe tbody tr th:only-of-type {\n",
       "        vertical-align: middle;\n",
       "    }\n",
       "\n",
       "    .dataframe tbody tr th {\n",
       "        vertical-align: top;\n",
       "    }\n",
       "\n",
       "    .dataframe thead th {\n",
       "        text-align: right;\n",
       "    }\n",
       "</style>\n",
       "<table border=\"1\" class=\"dataframe\">\n",
       "  <thead>\n",
       "    <tr style=\"text-align: right;\">\n",
       "      <th></th>\n",
       "      <th>Date</th>\n",
       "      <th>Home_Win</th>\n",
       "      <th>Home</th>\n",
       "      <th>Away</th>\n",
       "      <th>Win Percent Delta</th>\n",
       "      <th>Streak Delta</th>\n",
       "      <th>Run Scored Delta</th>\n",
       "      <th>Run Allowed Delta</th>\n",
       "      <th>Run Delta Delta</th>\n",
       "      <th>Run Delta Percent Delta</th>\n",
       "      <th>Win Total Delta</th>\n",
       "    </tr>\n",
       "  </thead>\n",
       "  <tbody>\n",
       "    <tr>\n",
       "      <th>0</th>\n",
       "      <td>thursday mar 28</td>\n",
       "      <td>W</td>\n",
       "      <td>OAK</td>\n",
       "      <td>LAA</td>\n",
       "      <td>0.000000</td>\n",
       "      <td>-2</td>\n",
       "      <td>11</td>\n",
       "      <td>14</td>\n",
       "      <td>-3</td>\n",
       "      <td>0.7857</td>\n",
       "      <td>0</td>\n",
       "    </tr>\n",
       "    <tr>\n",
       "      <th>1</th>\n",
       "      <td>friday mar 29</td>\n",
       "      <td>L</td>\n",
       "      <td>OAK</td>\n",
       "      <td>LAA</td>\n",
       "      <td>0.333333</td>\n",
       "      <td>2</td>\n",
       "      <td>15</td>\n",
       "      <td>10</td>\n",
       "      <td>5</td>\n",
       "      <td>1.0714</td>\n",
       "      <td>1</td>\n",
       "    </tr>\n",
       "    <tr>\n",
       "      <th>2</th>\n",
       "      <td>saturday mar 30</td>\n",
       "      <td>W</td>\n",
       "      <td>OAK</td>\n",
       "      <td>LAA</td>\n",
       "      <td>-0.250000</td>\n",
       "      <td>-2</td>\n",
       "      <td>11</td>\n",
       "      <td>14</td>\n",
       "      <td>-3</td>\n",
       "      <td>-0.1500</td>\n",
       "      <td>0</td>\n",
       "    </tr>\n",
       "    <tr>\n",
       "      <th>3</th>\n",
       "      <td>sunday mar 31</td>\n",
       "      <td>W</td>\n",
       "      <td>OAK</td>\n",
       "      <td>LAA</td>\n",
       "      <td>0.066667</td>\n",
       "      <td>2</td>\n",
       "      <td>13</td>\n",
       "      <td>12</td>\n",
       "      <td>1</td>\n",
       "      <td>0.1545</td>\n",
       "      <td>1</td>\n",
       "    </tr>\n",
       "    <tr>\n",
       "      <th>4</th>\n",
       "      <td>monday apr 1</td>\n",
       "      <td>W</td>\n",
       "      <td>SEA</td>\n",
       "      <td>LAA</td>\n",
       "      <td>0.583333</td>\n",
       "      <td>4</td>\n",
       "      <td>39</td>\n",
       "      <td>23</td>\n",
       "      <td>16</td>\n",
       "      <td>0.6214</td>\n",
       "      <td>4</td>\n",
       "    </tr>\n",
       "    <tr>\n",
       "      <th>...</th>\n",
       "      <td>...</td>\n",
       "      <td>...</td>\n",
       "      <td>...</td>\n",
       "      <td>...</td>\n",
       "      <td>...</td>\n",
       "      <td>...</td>\n",
       "      <td>...</td>\n",
       "      <td>...</td>\n",
       "      <td>...</td>\n",
       "      <td>...</td>\n",
       "      <td>...</td>\n",
       "    </tr>\n",
       "    <tr>\n",
       "      <th>2424</th>\n",
       "      <td>sunday apr 14</td>\n",
       "      <td>L</td>\n",
       "      <td>NYY</td>\n",
       "      <td>CHW</td>\n",
       "      <td>0.120879</td>\n",
       "      <td>2</td>\n",
       "      <td>12</td>\n",
       "      <td>-29</td>\n",
       "      <td>41</td>\n",
       "      <td>0.5459</td>\n",
       "      <td>2</td>\n",
       "    </tr>\n",
       "    <tr>\n",
       "      <th>2425</th>\n",
       "      <td>thursday jun 13</td>\n",
       "      <td>W</td>\n",
       "      <td>CHW</td>\n",
       "      <td>NYY</td>\n",
       "      <td>-0.136364</td>\n",
       "      <td>2</td>\n",
       "      <td>-75</td>\n",
       "      <td>50</td>\n",
       "      <td>-125</td>\n",
       "      <td>-0.4098</td>\n",
       "      <td>-9</td>\n",
       "    </tr>\n",
       "    <tr>\n",
       "      <th>2426</th>\n",
       "      <td>friday jun 14</td>\n",
       "      <td>W</td>\n",
       "      <td>CHW</td>\n",
       "      <td>NYY</td>\n",
       "      <td>-0.119403</td>\n",
       "      <td>4</td>\n",
       "      <td>-74</td>\n",
       "      <td>49</td>\n",
       "      <td>-123</td>\n",
       "      <td>-0.3972</td>\n",
       "      <td>-8</td>\n",
       "    </tr>\n",
       "    <tr>\n",
       "      <th>2427</th>\n",
       "      <td>saturday jun 15</td>\n",
       "      <td>L</td>\n",
       "      <td>CHW</td>\n",
       "      <td>NYY</td>\n",
       "      <td>-0.102941</td>\n",
       "      <td>6</td>\n",
       "      <td>-66</td>\n",
       "      <td>41</td>\n",
       "      <td>-107</td>\n",
       "      <td>-0.3382</td>\n",
       "      <td>-7</td>\n",
       "    </tr>\n",
       "    <tr>\n",
       "      <th>2428</th>\n",
       "      <td>sunday jun 16</td>\n",
       "      <td>L</td>\n",
       "      <td>CHW</td>\n",
       "      <td>NYY</td>\n",
       "      <td>-0.115942</td>\n",
       "      <td>-2</td>\n",
       "      <td>-70</td>\n",
       "      <td>45</td>\n",
       "      <td>-115</td>\n",
       "      <td>-0.3571</td>\n",
       "      <td>-8</td>\n",
       "    </tr>\n",
       "  </tbody>\n",
       "</table>\n",
       "<p>2429 rows × 11 columns</p>\n",
       "</div>"
      ],
      "text/plain": [
       "                 Date Home_Win Home Away  Win Percent Delta  Streak Delta  \\\n",
       "0     thursday mar 28        W  OAK  LAA           0.000000            -2   \n",
       "1       friday mar 29        L  OAK  LAA           0.333333             2   \n",
       "2     saturday mar 30        W  OAK  LAA          -0.250000            -2   \n",
       "3       sunday mar 31        W  OAK  LAA           0.066667             2   \n",
       "4        monday apr 1        W  SEA  LAA           0.583333             4   \n",
       "...               ...      ...  ...  ...                ...           ...   \n",
       "2424    sunday apr 14        L  NYY  CHW           0.120879             2   \n",
       "2425  thursday jun 13        W  CHW  NYY          -0.136364             2   \n",
       "2426    friday jun 14        W  CHW  NYY          -0.119403             4   \n",
       "2427  saturday jun 15        L  CHW  NYY          -0.102941             6   \n",
       "2428    sunday jun 16        L  CHW  NYY          -0.115942            -2   \n",
       "\n",
       "      Run Scored Delta  Run Allowed Delta  Run Delta Delta  \\\n",
       "0                   11                 14               -3   \n",
       "1                   15                 10                5   \n",
       "2                   11                 14               -3   \n",
       "3                   13                 12                1   \n",
       "4                   39                 23               16   \n",
       "...                ...                ...              ...   \n",
       "2424                12                -29               41   \n",
       "2425               -75                 50             -125   \n",
       "2426               -74                 49             -123   \n",
       "2427               -66                 41             -107   \n",
       "2428               -70                 45             -115   \n",
       "\n",
       "      Run Delta Percent Delta  Win Total Delta  \n",
       "0                      0.7857                0  \n",
       "1                      1.0714                1  \n",
       "2                     -0.1500                0  \n",
       "3                      0.1545                1  \n",
       "4                      0.6214                4  \n",
       "...                       ...              ...  \n",
       "2424                   0.5459                2  \n",
       "2425                  -0.4098               -9  \n",
       "2426                  -0.3972               -8  \n",
       "2427                  -0.3382               -7  \n",
       "2428                  -0.3571               -8  \n",
       "\n",
       "[2429 rows x 11 columns]"
      ]
     },
     "execution_count": 2,
     "metadata": {},
     "output_type": "execute_result"
    }
   ],
   "source": [
    "df = pd.read_csv(\"2019_all_delta_extra.csv\")\n",
    "df"
   ]
  },
  {
   "cell_type": "code",
   "execution_count": 3,
   "metadata": {},
   "outputs": [],
   "source": [
    "X = df.loc[:,df.columns[4:]]\n",
    "X_bool = (X >= 0).values\n",
    "y = df.loc[:,df.columns[1]].values"
   ]
  },
  {
   "cell_type": "code",
   "execution_count": 4,
   "metadata": {},
   "outputs": [],
   "source": [
    "#create win/loss mask\n",
    "wins = df.loc[:,'Home_Win'] == 'W'\n",
    "losses = df.loc[:,'Home_Win'] != 'W'"
   ]
  },
  {
   "cell_type": "code",
   "execution_count": 5,
   "metadata": {},
   "outputs": [
    {
     "data": {
      "text/plain": [
       "array([1, 0], dtype=int64)"
      ]
     },
     "execution_count": 5,
     "metadata": {},
     "output_type": "execute_result"
    }
   ],
   "source": [
    "from sklearn.preprocessing import StandardScaler\n",
    "from sklearn.preprocessing import LabelEncoder\n",
    "scaler = StandardScaler()\n",
    "X_transform = scaler.fit_transform(X)\n",
    "le = LabelEncoder()\n",
    "y_label = le.fit_transform(y)\n",
    "le.transform(['W','L'])"
   ]
  },
  {
   "cell_type": "code",
   "execution_count": 6,
   "metadata": {},
   "outputs": [],
   "source": [
    "X_train, X_test, y_train, y_test = train_test_split(X_bool, y_label, test_size=0.6, random_state=0)"
   ]
  },
  {
   "cell_type": "code",
   "execution_count": 7,
   "metadata": {},
   "outputs": [
    {
     "name": "stdout",
     "output_type": "stream",
     "text": [
      "Number of mislabeled points out of a total 1458 points : 632\n",
      "Accuracy: 0.567\n"
     ]
    }
   ],
   "source": [
    "from sklearn.naive_bayes import GaussianNB\n",
    "gnb = GaussianNB()\n",
    "y_pred = gnb.fit(X_train, y_train).predict(X_test)\n",
    "print(\"Number of mislabeled points out of a total %d points : %d\"\n",
    "      % (X_test.shape[0], (y_test != y_pred).sum()))\n",
    "print(f'Accuracy: {round(1-((y_test != y_pred).sum()/X_test.shape[0]),3)}')"
   ]
  },
  {
   "cell_type": "markdown",
   "metadata": {},
   "source": [
    "# Cross-Validation\n",
    "Using 10 fold cross validation o nthe entire dataset gives 58% accuracy - equal to my naive assumption that winning teams will continue winning.  For some reason 10 fold cross validation on just the training set produces better results - ~60% accuracy.  I think that there are some outliers in the test set"
   ]
  },
  {
   "cell_type": "code",
   "execution_count": 21,
   "metadata": {},
   "outputs": [
    {
     "name": "stdout",
     "output_type": "stream",
     "text": [
      "CV accuracy scores: [0.58847737 0.61316872 0.57201646 0.51851852 0.5308642  0.59259259\n",
      " 0.59670782 0.60082305 0.55967078 0.62396694]\n",
      "CV accuracy: 0.580 +/- 0.033\n"
     ]
    }
   ],
   "source": [
    "scores = cross_val_score(estimator=gnb,\n",
    "                             X=X,\n",
    "                             y=y,\n",
    "                             cv=10,\n",
    "                             n_jobs=1)\n",
    "print('CV accuracy scores: %s' % scores)\n",
    "print('CV accuracy: %.3f +/- %.3f' % (np.mean(scores), np.std(scores)))"
   ]
  },
  {
   "cell_type": "code",
   "execution_count": 22,
   "metadata": {},
   "outputs": [
    {
     "name": "stdout",
     "output_type": "stream",
     "text": [
      "CV accuracy scores: [0.65306122 0.56701031 0.59793814 0.63917526 0.60824742 0.48453608\n",
      " 0.62886598 0.5257732  0.60824742 0.68041237]\n",
      "CV accuracy: 0.599 +/- 0.056\n"
     ]
    }
   ],
   "source": [
    "scores = cross_val_score(estimator=gnb,\n",
    "                             X=X_train,\n",
    "                             y=y_train,\n",
    "                             cv=10,\n",
    "                             n_jobs=1)\n",
    "print('CV accuracy scores: %s' % scores)\n",
    "print('CV accuracy: %.3f +/- %.3f' % (np.mean(scores), np.std(scores)))"
   ]
  }
 ],
 "metadata": {
  "kernelspec": {
   "display_name": "Python 3",
   "language": "python",
   "name": "python3"
  },
  "language_info": {
   "codemirror_mode": {
    "name": "ipython",
    "version": 3
   },
   "file_extension": ".py",
   "mimetype": "text/x-python",
   "name": "python",
   "nbconvert_exporter": "python",
   "pygments_lexer": "ipython3",
   "version": "3.7.6"
  }
 },
 "nbformat": 4,
 "nbformat_minor": 4
}
