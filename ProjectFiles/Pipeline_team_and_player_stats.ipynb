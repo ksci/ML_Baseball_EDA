{
 "cells": [
  {
   "cell_type": "markdown",
   "metadata": {},
   "source": [
    "## Pipeline Exploration with team and player stats\n",
    "This notebook includes PCA pipelines with logistic regression, NN, decision tree and naive bayes.  It is the same work as Peipeline_team_stats but it includes overall player data as well in the modeling.\n",
    "\n"
   ]
  },
  {
   "cell_type": "code",
   "execution_count": 1,
   "metadata": {},
   "outputs": [],
   "source": [
    "import pandas as pd\n",
    "import numpy as np\n",
    "from sklearn.preprocessing import LabelEncoder\n",
    "from sklearn.model_selection import train_test_split\n",
    "from sklearn.preprocessing import StandardScaler\n",
    "from sklearn.decomposition import PCA\n",
    "from sklearn.linear_model import LogisticRegression\n",
    "from sklearn.pipeline import make_pipeline\n",
    "from sklearn.model_selection import StratifiedKFold\n",
    "from sklearn.neural_network import MLPClassifier\n",
    "from sklearn.metrics import roc_curve, auc\n",
    "from numpy import interp\n",
    "from sklearn.model_selection import cross_val_score\n",
    "from sklearn.pipeline import Pipeline\n",
    "from sklearn.discriminant_analysis import LinearDiscriminantAnalysis as LDA"
   ]
  },
  {
   "cell_type": "code",
   "execution_count": 2,
   "metadata": {},
   "outputs": [
    {
     "data": {
      "text/html": [
       "<div>\n",
       "<style scoped>\n",
       "    .dataframe tbody tr th:only-of-type {\n",
       "        vertical-align: middle;\n",
       "    }\n",
       "\n",
       "    .dataframe tbody tr th {\n",
       "        vertical-align: top;\n",
       "    }\n",
       "\n",
       "    .dataframe thead th {\n",
       "        text-align: right;\n",
       "    }\n",
       "</style>\n",
       "<table border=\"1\" class=\"dataframe\">\n",
       "  <thead>\n",
       "    <tr style=\"text-align: right;\">\n",
       "      <th></th>\n",
       "      <th>Date</th>\n",
       "      <th>Home_Win</th>\n",
       "      <th>Home</th>\n",
       "      <th>Away</th>\n",
       "      <th>Win Percent Delta</th>\n",
       "      <th>Streak Delta</th>\n",
       "      <th>Run Scored Delta</th>\n",
       "      <th>Run Allowed Delta</th>\n",
       "      <th>Run Delta Delta</th>\n",
       "      <th>Run Delta Percent Delta</th>\n",
       "      <th>Win Total Delta</th>\n",
       "    </tr>\n",
       "  </thead>\n",
       "  <tbody>\n",
       "    <tr>\n",
       "      <th>0</th>\n",
       "      <td>thursday mar 28</td>\n",
       "      <td>W</td>\n",
       "      <td>OAK</td>\n",
       "      <td>LAA</td>\n",
       "      <td>0.000000</td>\n",
       "      <td>-2</td>\n",
       "      <td>11</td>\n",
       "      <td>14</td>\n",
       "      <td>-3</td>\n",
       "      <td>0.7857</td>\n",
       "      <td>0</td>\n",
       "    </tr>\n",
       "    <tr>\n",
       "      <th>1</th>\n",
       "      <td>friday mar 29</td>\n",
       "      <td>L</td>\n",
       "      <td>OAK</td>\n",
       "      <td>LAA</td>\n",
       "      <td>0.333333</td>\n",
       "      <td>2</td>\n",
       "      <td>15</td>\n",
       "      <td>10</td>\n",
       "      <td>5</td>\n",
       "      <td>1.0714</td>\n",
       "      <td>1</td>\n",
       "    </tr>\n",
       "    <tr>\n",
       "      <th>2</th>\n",
       "      <td>saturday mar 30</td>\n",
       "      <td>W</td>\n",
       "      <td>OAK</td>\n",
       "      <td>LAA</td>\n",
       "      <td>-0.250000</td>\n",
       "      <td>-2</td>\n",
       "      <td>11</td>\n",
       "      <td>14</td>\n",
       "      <td>-3</td>\n",
       "      <td>-0.1500</td>\n",
       "      <td>0</td>\n",
       "    </tr>\n",
       "    <tr>\n",
       "      <th>3</th>\n",
       "      <td>sunday mar 31</td>\n",
       "      <td>W</td>\n",
       "      <td>OAK</td>\n",
       "      <td>LAA</td>\n",
       "      <td>0.066667</td>\n",
       "      <td>2</td>\n",
       "      <td>13</td>\n",
       "      <td>12</td>\n",
       "      <td>1</td>\n",
       "      <td>0.1545</td>\n",
       "      <td>1</td>\n",
       "    </tr>\n",
       "    <tr>\n",
       "      <th>4</th>\n",
       "      <td>monday apr 1</td>\n",
       "      <td>W</td>\n",
       "      <td>SEA</td>\n",
       "      <td>LAA</td>\n",
       "      <td>0.583333</td>\n",
       "      <td>4</td>\n",
       "      <td>39</td>\n",
       "      <td>23</td>\n",
       "      <td>16</td>\n",
       "      <td>0.6214</td>\n",
       "      <td>4</td>\n",
       "    </tr>\n",
       "  </tbody>\n",
       "</table>\n",
       "</div>"
      ],
      "text/plain": [
       "              Date Home_Win Home Away  Win Percent Delta  Streak Delta  \\\n",
       "0  thursday mar 28        W  OAK  LAA           0.000000            -2   \n",
       "1    friday mar 29        L  OAK  LAA           0.333333             2   \n",
       "2  saturday mar 30        W  OAK  LAA          -0.250000            -2   \n",
       "3    sunday mar 31        W  OAK  LAA           0.066667             2   \n",
       "4     monday apr 1        W  SEA  LAA           0.583333             4   \n",
       "\n",
       "   Run Scored Delta  Run Allowed Delta  Run Delta Delta  \\\n",
       "0                11                 14               -3   \n",
       "1                15                 10                5   \n",
       "2                11                 14               -3   \n",
       "3                13                 12                1   \n",
       "4                39                 23               16   \n",
       "\n",
       "   Run Delta Percent Delta  Win Total Delta  \n",
       "0                   0.7857                0  \n",
       "1                   1.0714                1  \n",
       "2                  -0.1500                0  \n",
       "3                   0.1545                1  \n",
       "4                   0.6214                4  "
      ]
     },
     "execution_count": 2,
     "metadata": {},
     "output_type": "execute_result"
    }
   ],
   "source": [
    "#Get CSV's into memory\n",
    "df_team = pd.read_csv(\"2019_all_delta_extra.csv\")\n",
    "team_runs = {}\n",
    "\n",
    "def get_teams():\n",
    "    teams = [item.strip() for item in open(\"all_teams.txt\",'r')]\n",
    "    return teams\n",
    "\n",
    "teams = get_teams()\n",
    "\n",
    "df_team.head()"
   ]
  },
  {
   "cell_type": "code",
   "execution_count": 3,
   "metadata": {},
   "outputs": [
    {
     "data": {
      "text/html": [
       "<div>\n",
       "<style scoped>\n",
       "    .dataframe tbody tr th:only-of-type {\n",
       "        vertical-align: middle;\n",
       "    }\n",
       "\n",
       "    .dataframe tbody tr th {\n",
       "        vertical-align: top;\n",
       "    }\n",
       "\n",
       "    .dataframe thead th {\n",
       "        text-align: right;\n",
       "    }\n",
       "</style>\n",
       "<table border=\"1\" class=\"dataframe\">\n",
       "  <thead>\n",
       "    <tr style=\"text-align: right;\">\n",
       "      <th></th>\n",
       "      <th>Team Name</th>\n",
       "      <th>Year</th>\n",
       "      <th>League</th>\n",
       "      <th>Division</th>\n",
       "      <th>Games</th>\n",
       "      <th>Wins</th>\n",
       "      <th>Loses</th>\n",
       "      <th>Ties</th>\n",
       "      <th>Win_Percentage</th>\n",
       "      <th>Games_Back</th>\n",
       "      <th>Runs_Scored</th>\n",
       "      <th>Runs_Allowed</th>\n",
       "      <th>AVG</th>\n",
       "      <th>OBP</th>\n",
       "      <th>SLG</th>\n",
       "      <th>BFW</th>\n",
       "      <th>O_AVG</th>\n",
       "      <th>O_OBP</th>\n",
       "      <th>O_SLG</th>\n",
       "    </tr>\n",
       "    <tr>\n",
       "      <th>Team Abbreviation</th>\n",
       "      <th></th>\n",
       "      <th></th>\n",
       "      <th></th>\n",
       "      <th></th>\n",
       "      <th></th>\n",
       "      <th></th>\n",
       "      <th></th>\n",
       "      <th></th>\n",
       "      <th></th>\n",
       "      <th></th>\n",
       "      <th></th>\n",
       "      <th></th>\n",
       "      <th></th>\n",
       "      <th></th>\n",
       "      <th></th>\n",
       "      <th></th>\n",
       "      <th></th>\n",
       "      <th></th>\n",
       "      <th></th>\n",
       "    </tr>\n",
       "  </thead>\n",
       "  <tbody>\n",
       "    <tr>\n",
       "      <th>ATL</th>\n",
       "      <td>Atlanta Braves</td>\n",
       "      <td>2019</td>\n",
       "      <td>National</td>\n",
       "      <td>East</td>\n",
       "      <td>162</td>\n",
       "      <td>97</td>\n",
       "      <td>65</td>\n",
       "      <td>0</td>\n",
       "      <td>0.599</td>\n",
       "      <td>-</td>\n",
       "      <td>855</td>\n",
       "      <td>743</td>\n",
       "      <td>0.258</td>\n",
       "      <td>0.336</td>\n",
       "      <td>0.452</td>\n",
       "      <td>5.0</td>\n",
       "      <td>0.256</td>\n",
       "      <td>0.329</td>\n",
       "      <td>0.419</td>\n",
       "    </tr>\n",
       "    <tr>\n",
       "      <th>WSN</th>\n",
       "      <td>Washington Nationals</td>\n",
       "      <td>2019</td>\n",
       "      <td>National</td>\n",
       "      <td>East</td>\n",
       "      <td>162</td>\n",
       "      <td>93</td>\n",
       "      <td>69</td>\n",
       "      <td>0</td>\n",
       "      <td>0.574</td>\n",
       "      <td>4</td>\n",
       "      <td>873</td>\n",
       "      <td>724</td>\n",
       "      <td>0.265</td>\n",
       "      <td>0.342</td>\n",
       "      <td>0.454</td>\n",
       "      <td>3.4</td>\n",
       "      <td>0.244</td>\n",
       "      <td>0.314</td>\n",
       "      <td>0.412</td>\n",
       "    </tr>\n",
       "    <tr>\n",
       "      <th>PHI</th>\n",
       "      <td>Philadelphia Phillies</td>\n",
       "      <td>2019</td>\n",
       "      <td>National</td>\n",
       "      <td>East</td>\n",
       "      <td>162</td>\n",
       "      <td>81</td>\n",
       "      <td>81</td>\n",
       "      <td>0</td>\n",
       "      <td>0.500</td>\n",
       "      <td>16</td>\n",
       "      <td>774</td>\n",
       "      <td>794</td>\n",
       "      <td>0.246</td>\n",
       "      <td>0.319</td>\n",
       "      <td>0.427</td>\n",
       "      <td>-3.0</td>\n",
       "      <td>0.261</td>\n",
       "      <td>0.332</td>\n",
       "      <td>0.453</td>\n",
       "    </tr>\n",
       "    <tr>\n",
       "      <th>NYM</th>\n",
       "      <td>New York Mets</td>\n",
       "      <td>2019</td>\n",
       "      <td>National</td>\n",
       "      <td>East</td>\n",
       "      <td>162</td>\n",
       "      <td>86</td>\n",
       "      <td>76</td>\n",
       "      <td>0</td>\n",
       "      <td>0.531</td>\n",
       "      <td>11</td>\n",
       "      <td>791</td>\n",
       "      <td>737</td>\n",
       "      <td>0.257</td>\n",
       "      <td>0.328</td>\n",
       "      <td>0.442</td>\n",
       "      <td>4.9</td>\n",
       "      <td>0.251</td>\n",
       "      <td>0.317</td>\n",
       "      <td>0.418</td>\n",
       "    </tr>\n",
       "    <tr>\n",
       "      <th>MIA</th>\n",
       "      <td>Miami Marlins</td>\n",
       "      <td>2019</td>\n",
       "      <td>National</td>\n",
       "      <td>East</td>\n",
       "      <td>162</td>\n",
       "      <td>57</td>\n",
       "      <td>105</td>\n",
       "      <td>0</td>\n",
       "      <td>0.352</td>\n",
       "      <td>40</td>\n",
       "      <td>615</td>\n",
       "      <td>808</td>\n",
       "      <td>0.241</td>\n",
       "      <td>0.298</td>\n",
       "      <td>0.375</td>\n",
       "      <td>-16.6</td>\n",
       "      <td>0.245</td>\n",
       "      <td>0.329</td>\n",
       "      <td>0.435</td>\n",
       "    </tr>\n",
       "  </tbody>\n",
       "</table>\n",
       "</div>"
      ],
      "text/plain": [
       "                               Team Name  Year    League Division  Games  \\\n",
       "Team Abbreviation                                                          \n",
       "ATL                       Atlanta Braves  2019  National     East    162   \n",
       "WSN                 Washington Nationals  2019  National     East    162   \n",
       "PHI                Philadelphia Phillies  2019  National     East    162   \n",
       "NYM                        New York Mets  2019  National     East    162   \n",
       "MIA                        Miami Marlins  2019  National     East    162   \n",
       "\n",
       "                   Wins  Loses  Ties  Win_Percentage Games_Back  Runs_Scored  \\\n",
       "Team Abbreviation                                                              \n",
       "ATL                  97     65     0           0.599          -          855   \n",
       "WSN                  93     69     0           0.574          4          873   \n",
       "PHI                  81     81     0           0.500         16          774   \n",
       "NYM                  86     76     0           0.531         11          791   \n",
       "MIA                  57    105     0           0.352         40          615   \n",
       "\n",
       "                   Runs_Allowed    AVG    OBP    SLG   BFW  O_AVG  O_OBP  \\\n",
       "Team Abbreviation                                                          \n",
       "ATL                         743  0.258  0.336  0.452   5.0  0.256  0.329   \n",
       "WSN                         724  0.265  0.342  0.454   3.4  0.244  0.314   \n",
       "PHI                         794  0.246  0.319  0.427  -3.0  0.261  0.332   \n",
       "NYM                         737  0.257  0.328  0.442   4.9  0.251  0.317   \n",
       "MIA                         808  0.241  0.298  0.375 -16.6  0.245  0.329   \n",
       "\n",
       "                   O_SLG  \n",
       "Team Abbreviation         \n",
       "ATL                0.419  \n",
       "WSN                0.412  \n",
       "PHI                0.453  \n",
       "NYM                0.418  \n",
       "MIA                0.435  "
      ]
     },
     "execution_count": 3,
     "metadata": {},
     "output_type": "execute_result"
    }
   ],
   "source": [
    "df_player = pd.read_csv(\"2012-2019_team_player_stats.csv\",index_col='Team Abbreviation')\n",
    "df_player[df_player['Year'] == 2019].head()"
   ]
  },
  {
   "cell_type": "code",
   "execution_count": 4,
   "metadata": {},
   "outputs": [],
   "source": [
    "df_all = pd.read_csv(\"2019_all_stats.csv\")"
   ]
  },
  {
   "cell_type": "code",
   "execution_count": 5,
   "metadata": {},
   "outputs": [],
   "source": [
    "X = df_all.loc[:,df_all.columns[4:]].values\n",
    "y = df_all.loc[:,df_all.columns[1]].values"
   ]
  },
  {
   "cell_type": "code",
   "execution_count": 6,
   "metadata": {},
   "outputs": [
    {
     "data": {
      "text/plain": [
       "(2429, 21)"
      ]
     },
     "execution_count": 6,
     "metadata": {},
     "output_type": "execute_result"
    }
   ],
   "source": [
    "X.shape"
   ]
  },
  {
   "cell_type": "code",
   "execution_count": 7,
   "metadata": {},
   "outputs": [],
   "source": [
    "#create win/loss mask\n",
    "wins = df_all.loc[:,'Home_Win'] == 'W'\n",
    "losses = df_all.loc[:,'Home_Win'] != 'W'"
   ]
  },
  {
   "cell_type": "code",
   "execution_count": 8,
   "metadata": {},
   "outputs": [
    {
     "data": {
      "text/plain": [
       "array([1, 0], dtype=int64)"
      ]
     },
     "execution_count": 8,
     "metadata": {},
     "output_type": "execute_result"
    }
   ],
   "source": [
    "from sklearn.preprocessing import StandardScaler\n",
    "from sklearn.preprocessing import LabelEncoder\n",
    "scaler = StandardScaler()\n",
    "X_transform = scaler.fit_transform(X)\n",
    "le = LabelEncoder()\n",
    "y_label = le.fit_transform(y)\n",
    "le.transform(['W','L'])"
   ]
  },
  {
   "cell_type": "code",
   "execution_count": 9,
   "metadata": {},
   "outputs": [],
   "source": [
    "from sklearn.model_selection import train_test_split\n",
    "X_train, X_test, y_train, y_test = \\\n",
    "    train_test_split(X_transform, y_label, \n",
    "                     test_size=0.25,\n",
    "                     stratify=y_label,\n",
    "                     random_state=1)"
   ]
  },
  {
   "cell_type": "code",
   "execution_count": 10,
   "metadata": {},
   "outputs": [
    {
     "name": "stdout",
     "output_type": "stream",
     "text": [
      "Eigenvalues: [ 8.50344538e+00  4.21089999e+00  2.31601000e+00  1.63439266e+00\n",
      "  1.09220833e+00  7.91904885e-01  6.95471984e-01  4.05739908e-01\n",
      "  2.42348883e-01  2.25031253e-01  1.87815349e-01  1.65463326e-01\n",
      "  1.37591480e-01  2.81101265e-02  3.26328359e-02  4.53606898e-02\n",
      "  8.70896457e-02  7.90948749e-02  6.31888422e-02  6.48486518e-02\n",
      " -2.56337978e-17]\n"
     ]
    }
   ],
   "source": [
    "from numpy import array\n",
    "from numpy import mean\n",
    "from numpy import cov\n",
    "from numpy.linalg import eig\n",
    "# define a matrix\n",
    "A = array(X_transform)\n",
    "\n",
    "# calculate the mean of each column\n",
    "M = mean(A.T, axis=1)\n",
    "\n",
    "# center columns by subtracting column means\n",
    "C = A - M\n",
    "\n",
    "# calculate covariance matrix of centered matrix. This is how much each columns varies with other columns\n",
    "V = cov(C.T)\n",
    "\n",
    "# eigendecomposition of covariance matrix.  The larger the eigenvalue, the more it matters\n",
    "values, vectors = eig(V)\n",
    "print(f'Eigenvalues: {values}')\n",
    "\n",
    "# project data using the covariance matrix and the eigenvectors\n",
    "P = vectors.T.dot(C.T)\n",
    "\n",
    "xval = np.array([item[0] for item in P.T])\n",
    "yval = np.array([item[1] for item in P.T])"
   ]
  },
  {
   "cell_type": "code",
   "execution_count": 11,
   "metadata": {},
   "outputs": [
    {
     "data": {
      "image/png": "[encoded data removed]",
      "text/plain": [
       "<Figure size 432x288 with 1 Axes>"
      ]
     },
     "metadata": {
      "needs_background": "light"
     },
     "output_type": "display_data"
    }
   ],
   "source": [
    "def create_scree(vector):\n",
    "    total = sum(vector)\n",
    "    percent = vector/total\n",
    "    return percent\n",
    "\n",
    "import matplotlib.pyplot as plt\n",
    "\n",
    "plt.title('Scree Plot of EigenValues')\n",
    "plt.ylabel('Percent')\n",
    "plt.xlabel('Feature Index')\n",
    "plt.bar([x for x in range(len(values))], create_scree(values), align='center', alpha=0.5)\n",
    "plt.show()"
   ]
  },
  {
   "cell_type": "code",
   "execution_count": 12,
   "metadata": {},
   "outputs": [
    {
     "name": "stdout",
     "output_type": "stream",
     "text": [
      "[0.40475927 0.2004365  0.11024079 0.07779618 0.05198851]\n",
      "[143.6884316  101.11411962  74.98848097  62.99448687  51.49642536]\n"
     ]
    }
   ],
   "source": [
    "#confirming results with sklearn package\n",
    "pca = PCA(n_components=5, svd_solver='full')\n",
    "pca.fit(X_transform)\n",
    "print(pca.explained_variance_ratio_)\n",
    "print(pca.singular_values_)\n"
   ]
  },
  {
   "cell_type": "code",
   "execution_count": 27,
   "metadata": {},
   "outputs": [
    {
     "name": "stdout",
     "output_type": "stream",
     "text": [
      "PCA components unset: 0.562\n",
      "PCA components set to 2: 0.551\n"
     ]
    }
   ],
   "source": [
    "# no value for PCA components\n",
    "pipe_lr = make_pipeline(PCA(),\n",
    "                        LogisticRegression(penalty='l2', \n",
    "                                           solver='lbfgs',\n",
    "                                           max_iter=10000,\n",
    "                                           C=21.54,\n",
    "                                           tol=0.1))\n",
    "pipe_lr.fit(X_train,y_train)\n",
    "print(f'PCA components unset: {round(pipe_lr.score(X_test,y_test),3)}')\n",
    "pipe_lr2 = make_pipeline(PCA(n_components=4),\n",
    "                        LogisticRegression(penalty='l2', \n",
    "                                           solver='lbfgs',\n",
    "                                           max_iter=10000,\n",
    "                                           C=21.54,\n",
    "                                           tol=0.1))\n",
    "pipe_lr2.fit(X_train,y_train)\n",
    "print(f'PCA components set to 2: {round(pipe_lr2.score(X_test,y_test),3)}')"
   ]
  },
  {
   "cell_type": "code",
   "execution_count": 28,
   "metadata": {},
   "outputs": [
    {
     "name": "stdout",
     "output_type": "stream",
     "text": [
      "CV accuracy: 0.590 +/- 0.031\n",
      "CV accuracy: 0.592 +/- 0.041\n"
     ]
    }
   ],
   "source": [
    "scores = cross_val_score(estimator=pipe_lr,\n",
    "                         X=X_transform,\n",
    "                         y=y_label,\n",
    "                         cv=10,\n",
    "                         n_jobs=1)\n",
    "#print('CV accuracy scores: %s' % scores)\n",
    "print('CV accuracy: %.3f +/- %.3f' % (np.mean(scores), np.std(scores)))\n",
    "scores = cross_val_score(estimator=pipe_lr2,\n",
    "                         X=X_transform,\n",
    "                         y=y_label,\n",
    "                         cv=10,\n",
    "                         n_jobs=1)\n",
    "#print('CV accuracy scores: %s' % scores)\n",
    "print('CV accuracy: %.3f +/- %.3f' % (np.mean(scores), np.std(scores)))"
   ]
  },
  {
   "cell_type": "markdown",
   "metadata": {},
   "source": [
    "### Grid search indicates that n components of 4 should be best, but when I don't set that variable in the pipeline it actually performs better"
   ]
  },
  {
   "cell_type": "code",
   "execution_count": 14,
   "metadata": {},
   "outputs": [
    {
     "name": "stdout",
     "output_type": "stream",
     "text": [
      "Best parameter (CV score=0.610):\n",
      "{'logistic__C': 0.046415888336127774, 'pca__n_components': 4}\n"
     ]
    },
    {
     "data": {
      "image/png": "[encoded data removed]",
      "text/plain": [
       "<Figure size 720x576 with 2 Axes>"
      ]
     },
     "metadata": {
      "needs_background": "light"
     },
     "output_type": "display_data"
    }
   ],
   "source": [
    "from sklearn.model_selection import GridSearchCV\n",
    "\n",
    "# Define a pipeline to search for the best combination of PCA truncation\n",
    "# and classifier regularization.\n",
    "pca = PCA()\n",
    "# set the tolerance to a large value to make the example faster\n",
    "logistic = LogisticRegression(max_iter=10000, tol=0.1)\n",
    "pipe = Pipeline(steps=[('pca', pca), ('logistic', logistic)])\n",
    "\n",
    "# Parameters of pipelines can be set using ‘__’ separated parameter names:\n",
    "param_grid = {\n",
    "    'pca__n_components': [2, 3, 4, 5, 6, 7],\n",
    "    'logistic__C': np.logspace(-4, 4, 4),\n",
    "}\n",
    "search = GridSearchCV(pipe, param_grid, n_jobs=-1)\n",
    "search.fit(X_train, y_train)\n",
    "print(\"Best parameter (CV score=%0.3f):\" % search.best_score_)\n",
    "print(search.best_params_)\n",
    "\n",
    "# Plot the PCA spectrum\n",
    "pca.fit(X_train)\n",
    "\n",
    "\n",
    "fig, (ax0, ax1) = plt.subplots(nrows=2, sharex=True, figsize=(10, 8))\n",
    "ax0.plot(np.arange(1, pca.n_components_ + 1),\n",
    "         pca.explained_variance_ratio_, '+', linewidth=2)\n",
    "ax0.set_ylabel('PCA explained variance ratio')\n",
    "\n",
    "ax0.axvline(search.best_estimator_.named_steps['pca'].n_components,\n",
    "            linestyle=':', label='n_components chosen')\n",
    "ax0.legend(prop=dict(size=12))\n",
    "\n",
    "# For each number of components, find the best classifier results\n",
    "results = pd.DataFrame(search.cv_results_)\n",
    "components_col = 'param_pca__n_components'\n",
    "best_clfs = results.groupby(components_col).apply(\n",
    "    lambda g: g.nlargest(1, 'mean_test_score'))\n",
    "\n",
    "best_clfs.plot(x=components_col, y='mean_test_score', yerr='std_test_score',\n",
    "               legend=False, ax=ax1)\n",
    "ax1.set_ylabel('Classification accuracy (val)')\n",
    "ax1.set_xlabel('n_components')\n",
    "\n",
    "plt.xlim(-1, 9)\n",
    "\n",
    "plt.tight_layout()\n",
    "plt.show()"
   ]
  },
  {
   "cell_type": "markdown",
   "metadata": {},
   "source": [
    "## There is little separation of the data using PCA"
   ]
  },
  {
   "cell_type": "code",
   "execution_count": 15,
   "metadata": {},
   "outputs": [
    {
     "data": {
      "image/png": "[encoded data removed]",
      "text/plain": [
       "<Figure size 432x288 with 1 Axes>"
      ]
     },
     "metadata": {
      "needs_background": "light"
     },
     "output_type": "display_data"
    }
   ],
   "source": [
    "import matplotlib.pyplot as plt\n",
    "\n",
    "#plot loses as red and wins as green\n",
    "plt.scatter(xval[losses], yval[losses], color='red')                            \n",
    "plt.scatter(xval[wins], yval[wins], color='green')\n",
    "\n",
    "plt.title('PCA analysis of Win/Loss Dataset')\n",
    "plt.xlabel('PC1')\n",
    "plt.ylabel('PC2')\n",
    "plt.savefig(\"Images\\\\PCA_21.png\")\n",
    "plt.show()"
   ]
  },
  {
   "cell_type": "markdown",
   "metadata": {},
   "source": [
    "## PCA --> Logistic Pipeline"
   ]
  },
  {
   "cell_type": "code",
   "execution_count": 143,
   "metadata": {},
   "outputs": [
    {
     "data": {
      "text/plain": [
       "0.5526315789473685"
      ]
     },
     "execution_count": 143,
     "metadata": {},
     "output_type": "execute_result"
    }
   ],
   "source": [
    "pipe_lr = make_pipeline(PCA(n_components=2),\n",
    "                        LogisticRegression(penalty='l2', \n",
    "                                           solver='lbfgs',\n",
    "                                           max_iter=10000,\n",
    "                                           C=21.54,\n",
    "                                           tol=0.1))\n",
    "pipe_lr.fit(X_train,y_train)\n",
    "pipe_lr.score(X_test,y_test)"
   ]
  },
  {
   "cell_type": "markdown",
   "metadata": {},
   "source": [
    "## This is the best result I have gotten for all these features... About the same as the NN ~59%.\n",
    "I am surprised that having 21 features is not as good as the 7"
   ]
  },
  {
   "cell_type": "code",
   "execution_count": 144,
   "metadata": {},
   "outputs": [
    {
     "name": "stdout",
     "output_type": "stream",
     "text": [
      "CV accuracy: 0.592 +/- 0.037\n"
     ]
    }
   ],
   "source": [
    "#sklearn has a cross validator built in so we don't need to loop through things manuially\n",
    "scores = cross_val_score(estimator=pipe_lr,\n",
    "                         X=X_transform,\n",
    "                         y=y_label,\n",
    "                         cv=10,\n",
    "                         n_jobs=1)\n",
    "#print('CV accuracy scores: %s' % scores)\n",
    "print('CV accuracy: %.3f +/- %.3f' % (np.mean(scores), np.std(scores)))"
   ]
  },
  {
   "cell_type": "markdown",
   "metadata": {},
   "source": [
    "This is about 4% higher than the other pipeline, and unlike the NN it's accuracy does not change with each iteration"
   ]
  },
  {
   "cell_type": "markdown",
   "metadata": {},
   "source": [
    "# PCA -> NN Pipeline"
   ]
  },
  {
   "cell_type": "code",
   "execution_count": 18,
   "metadata": {},
   "outputs": [
    {
     "data": {
      "image/png": "[encoded data removed]",
      "text/plain": [
       "<Figure size 720x576 with 1 Axes>"
      ]
     },
     "metadata": {
      "needs_background": "light"
     },
     "output_type": "display_data"
    }
   ],
   "source": [
    "pipe_lr = make_pipeline(StandardScaler(),\n",
    "                        PCA(n_components=2),\n",
    "                        MLPClassifier(activation = \"logistic\", \n",
    "                                      solver='sgd',\n",
    "                                      learning_rate_init = 0.1,\n",
    "                                      learning_rate = \"constant\",\n",
    "                                      momentum = 0.1,\n",
    "                                      max_iter = 10000))\n",
    "                    \n",
    "# here we are selecting only 2 features from the dataset\n",
    "X_train2 = X_train\n",
    "#[:, [0,2,3]]\n",
    "    \n",
    "#You can set the cross validator here with the number of splits\n",
    "cv = list(StratifiedKFold(n_splits=10).split(X_train, y_train))\n",
    "\n",
    "fig = plt.figure(figsize=(10, 8))\n",
    "\n",
    "mean_tpr = 0.0\n",
    "mean_fpr = np.linspace(0, 1, 100)\n",
    "all_tpr = []\n",
    "\n",
    "for i, (train, test) in enumerate(cv):\n",
    "    #Xtrain2 is used here for the fit, using only the features chosen above.  If you use the Xtrain data it will get 100%\n",
    "    probas = pipe_lr.fit(X_train2[train],\n",
    "                         y_train[train]).predict_proba(X_train2[test])\n",
    "\n",
    "    fpr, tpr, thresholds = roc_curve(y_train[test],\n",
    "                                     probas[:, 1],\n",
    "                                     pos_label=1)\n",
    "    mean_tpr += interp(mean_fpr, fpr, tpr)\n",
    "    mean_tpr[0] = 0.0\n",
    "    roc_auc = auc(fpr, tpr)\n",
    "    plt.plot(fpr,\n",
    "             tpr,\n",
    "             label='ROC fold %d (area = %0.2f)'\n",
    "                   % (i+1, roc_auc))\n",
    "plt.plot([0, 1],\n",
    "         [0, 1],\n",
    "         linestyle='--',\n",
    "         color=(0.6, 0.6, 0.6),\n",
    "         label='Random guessing')\n",
    "\n",
    "mean_tpr /= len(cv)\n",
    "mean_tpr[-1] = 1.0\n",
    "mean_auc = auc(mean_fpr, mean_tpr)\n",
    "plt.plot(mean_fpr, mean_tpr, 'k--',\n",
    "         label='Mean ROC (area = %0.2f)' % mean_auc, lw=2)\n",
    "plt.plot([0, 0, 1],\n",
    "         [0, 1, 1],\n",
    "         linestyle=':',\n",
    "         color='black',\n",
    "         label='Perfect performance')\n",
    "\n",
    "plt.xlim([-0.05, 1.05])\n",
    "plt.ylim([-0.05, 1.05])\n",
    "plt.title(\"PCA->NN Pipeline ROC 21 features\" )\n",
    "plt.xlabel('False positive rate')\n",
    "plt.ylabel('True positive rate')\n",
    "plt.legend(loc=\"lower right\")\n",
    "\n",
    "plt.tight_layout()\n",
    "plt.savefig('Images\\\\ROC_21.png')\n",
    "plt.show()"
   ]
  },
  {
   "cell_type": "markdown",
   "metadata": {},
   "source": [
    "## NN results\n",
    "You'll get slightly different results each time you cross validate, but overall the NN seems to achieve consistently better than 59.5% accuracy --> 1.5% better than the naive assumption.  Still not great, but oh well"
   ]
  },
  {
   "cell_type": "code",
   "execution_count": 146,
   "metadata": {},
   "outputs": [
    {
     "name": "stdout",
     "output_type": "stream",
     "text": [
      "CV accuracy: 0.602 +/- 0.040\n",
      "CV accuracy: 0.595 +/- 0.041\n",
      "CV accuracy: 0.595 +/- 0.033\n",
      "CV accuracy: 0.591 +/- 0.030\n",
      "CV accuracy: 0.595 +/- 0.038\n",
      "CV accuracy: 0.590 +/- 0.043\n",
      "CV accuracy: 0.598 +/- 0.032\n",
      "CV accuracy: 0.594 +/- 0.033\n",
      "CV accuracy: 0.596 +/- 0.032\n",
      "CV accuracy: 0.592 +/- 0.028\n"
     ]
    }
   ],
   "source": [
    "#sklearn has a cross validator built in so we don't need to loop through things manuially\n",
    "for i in range(0,10):\n",
    "    scores = cross_val_score(estimator=pipe_lr,\n",
    "                             X=X_transform,\n",
    "                             y=y_label,\n",
    "                             cv=10,\n",
    "                             n_jobs=1)\n",
    "    #print('CV accuracy scores: %s' % scores)\n",
    "    print('CV accuracy: %.3f +/- %.3f' % (np.mean(scores), np.std(scores)))"
   ]
  },
  {
   "cell_type": "markdown",
   "metadata": {},
   "source": [
    "The PCA-> NN achieves 59% accuracy"
   ]
  },
  {
   "cell_type": "markdown",
   "metadata": {},
   "source": [
    "# Naive Bayes"
   ]
  },
  {
   "cell_type": "code",
   "execution_count": 26,
   "metadata": {},
   "outputs": [
    {
     "name": "stdout",
     "output_type": "stream",
     "text": [
      "Number of mislabeled points out of a total 608 points : 268\n",
      "Accuracy: 0.559\n"
     ]
    },
    {
     "data": {
      "text/plain": [
       "0.5592105263157895"
      ]
     },
     "execution_count": 26,
     "metadata": {},
     "output_type": "execute_result"
    }
   ],
   "source": [
    "from sklearn.naive_bayes import GaussianNB\n",
    "gnb = GaussianNB()\n",
    "y_pred = gnb.fit(X_train, y_train).predict(X_test)\n",
    "print(\"Number of mislabeled points out of a total %d points : %d\"\n",
    "      % (X_test.shape[0], (y_test != y_pred).sum()))\n",
    "print(f'Accuracy: {round(1-((y_test != y_pred).sum()/X_test.shape[0]),3)}')\n",
    "gnb.score(X_test, y_test)"
   ]
  },
  {
   "cell_type": "markdown",
   "metadata": {},
   "source": [
    "### NB shows a 1.5% accuracy improvement with this larger dataset - 59.5%"
   ]
  },
  {
   "cell_type": "code",
   "execution_count": 20,
   "metadata": {},
   "outputs": [
    {
     "name": "stdout",
     "output_type": "stream",
     "text": [
      "CV accuracy scores: [0.61522634 0.55967078 0.59053498 0.61522634 0.59587629]\n",
      "CV accuracy: 0.595 +/- 0.020\n"
     ]
    }
   ],
   "source": [
    "scores = cross_val_score(estimator=gnb,\n",
    "                             X=X_transform,\n",
    "                             y=y_label,\n",
    "                             cv=5,\n",
    "                             n_jobs=1)\n",
    "print('CV accuracy scores: %s' % scores)\n",
    "print('CV accuracy: %.3f +/- %.3f' % (np.mean(scores), np.std(scores)))"
   ]
  },
  {
   "cell_type": "markdown",
   "metadata": {},
   "source": [
    "### Putting Naive Bayes into a pipeline with PCA does not do anything for the final results, unsurprisingly"
   ]
  },
  {
   "cell_type": "code",
   "execution_count": 21,
   "metadata": {},
   "outputs": [
    {
     "name": "stdout",
     "output_type": "stream",
     "text": [
      "CV accuracy scores: [0.61522634 0.55967078 0.59053498 0.61522634 0.59587629]\n",
      "CV accuracy: 0.595 +/- 0.020\n"
     ]
    }
   ],
   "source": [
    "pipe_lr = make_pipeline(PCA(),\n",
    "                        GaussianNB())\n",
    "pipe_lr.fit(X_train, y_train)\n",
    "\n",
    "scores = cross_val_score(estimator=gnb,\n",
    "                             X=X_transform,\n",
    "                             y=y_label,\n",
    "                             cv=5,\n",
    "                             n_jobs=1)\n",
    "print('CV accuracy scores: %s' % scores)\n",
    "print('CV accuracy: %.3f +/- %.3f' % (np.mean(scores), np.std(scores)))"
   ]
  },
  {
   "cell_type": "markdown",
   "metadata": {},
   "source": [
    "## Decision Tree\n",
    "Performs worse with more data"
   ]
  },
  {
   "cell_type": "code",
   "execution_count": 22,
   "metadata": {},
   "outputs": [
    {
     "name": "stdout",
     "output_type": "stream",
     "text": [
      "CV accuracy scores: [0.60493827 0.59670782 0.57201646 0.51851852 0.5308642  0.59259259\n",
      " 0.55144033 0.59670782 0.59670782 0.61983471]\n",
      "CV accuracy: 0.578 +/- 0.032\n"
     ]
    }
   ],
   "source": [
    "from sklearn.tree import DecisionTreeClassifier\n",
    "tree_model = DecisionTreeClassifier(criterion='gini', \n",
    "                                    max_depth=5, \n",
    "                                    random_state=1)\n",
    "tree_model.fit(X_train, y_train)\n",
    "scores = cross_val_score(estimator=tree_model,\n",
    "                             X=X_transform,\n",
    "                             y=y_label,\n",
    "                             cv=10,\n",
    "                             n_jobs=1)\n",
    "print('CV accuracy scores: %s' % scores)\n",
    "print('CV accuracy: %.3f +/- %.3f' % (np.mean(scores), np.std(scores)))"
   ]
  },
  {
   "cell_type": "markdown",
   "metadata": {},
   "source": [
    "### Putting the PCA into the decision tree did, however, result in a slight improvement (probably negligible)"
   ]
  },
  {
   "cell_type": "code",
   "execution_count": 23,
   "metadata": {},
   "outputs": [
    {
     "name": "stdout",
     "output_type": "stream",
     "text": [
      "CV accuracy scores: [0.59670782 0.63786008 0.57201646 0.48148148 0.55144033 0.61728395\n",
      " 0.56790123 0.65843621 0.57201646 0.57024793]\n",
      "CV accuracy: 0.583 +/- 0.047\n"
     ]
    }
   ],
   "source": [
    "pipe_lr = make_pipeline(PCA(),\n",
    "                        DecisionTreeClassifier(criterion='gini',\n",
    "                                               max_depth=3,\n",
    "                                               random_state=1))\n",
    "pipe_lr.fit(X_train, y_train)\n",
    "scores = cross_val_score(estimator=pipe_lr,\n",
    "                             X=X_transform,\n",
    "                             y=y_label,\n",
    "                             cv=10,\n",
    "                             n_jobs=1)\n",
    "print('CV accuracy scores: %s' % scores)\n",
    "print('CV accuracy: %.3f +/- %.3f' % (np.mean(scores), np.std(scores)))"
   ]
  },
  {
   "cell_type": "markdown",
   "metadata": {},
   "source": [
    "## PCA --> NN"
   ]
  },
  {
   "cell_type": "code",
   "execution_count": 25,
   "metadata": {},
   "outputs": [
    {
     "name": "stdout",
     "output_type": "stream",
     "text": [
      "CV accuracy: 0.597 +/- 0.034\n",
      "CV accuracy: 0.593 +/- 0.033\n",
      "CV accuracy: 0.597 +/- 0.029\n",
      "CV accuracy: 0.597 +/- 0.039\n",
      "CV accuracy: 0.597 +/- 0.031\n"
     ]
    }
   ],
   "source": [
    "pipe_lr = make_pipeline(PCA(),\n",
    "                        MLPClassifier(activation = \"logistic\", \n",
    "                                      solver='sgd',\n",
    "                                      learning_rate_init = 0.1,\n",
    "                                      learning_rate = \"constant\",\n",
    "                                      momentum = 0.1,\n",
    "                                      max_iter = 10000))\n",
    "pipe_lr.fit(X_train, y_train)\n",
    "for i in range(5):\n",
    "    scores = cross_val_score(estimator=pipe_lr,\n",
    "                                 X=X_transform,\n",
    "                                 y=y_label,\n",
    "                                 cv=10,\n",
    "                                 n_jobs=1)\n",
    "    #print('CV accuracy scores: %s' % scores)\n",
    "    print('CV accuracy: %.3f +/- %.3f' % (np.mean(scores), np.std(scores)))"
   ]
  },
  {
   "cell_type": "markdown",
   "metadata": {},
   "source": [
    "## LDA --> NN\n",
    "Similar results to PCA --> NN"
   ]
  },
  {
   "cell_type": "code",
   "execution_count": 24,
   "metadata": {},
   "outputs": [
    {
     "name": "stdout",
     "output_type": "stream",
     "text": [
      "CV accuracy: 0.590 +/- 0.032\n",
      "CV accuracy: 0.588 +/- 0.029\n",
      "CV accuracy: 0.587 +/- 0.029\n",
      "CV accuracy: 0.591 +/- 0.031\n",
      "CV accuracy: 0.592 +/- 0.028\n"
     ]
    }
   ],
   "source": [
    "pipe_lr = make_pipeline(LDA(),\n",
    "                        MLPClassifier(activation = \"logistic\", \n",
    "                                      solver='sgd',\n",
    "                                      learning_rate_init = 0.1,\n",
    "                                      learning_rate = \"constant\",\n",
    "                                      momentum = 0.1,\n",
    "                                      max_iter = 10000))\n",
    "pipe_lr.fit(X_train, y_train)\n",
    "for i in range(5):\n",
    "    scores = cross_val_score(estimator=pipe_lr,\n",
    "                                 X=X_transform,\n",
    "                                 y=y_label,\n",
    "                                 cv=10,\n",
    "                                 n_jobs=1)\n",
    "    #print('CV accuracy scores: %s' % scores)\n",
    "    print('CV accuracy: %.3f +/- %.3f' % (np.mean(scores), np.std(scores)))"
   ]
  },
  {
   "cell_type": "markdown",
   "metadata": {},
   "source": [
    "## LDA"
   ]
  },
  {
   "cell_type": "code",
   "execution_count": 184,
   "metadata": {},
   "outputs": [
    {
     "name": "stdout",
     "output_type": "stream",
     "text": [
      "CV accuracy scores: [0.6090535  0.60493827 0.55555556 0.55967078 0.5308642  0.60493827\n",
      " 0.61316872 0.6255144  0.58436214 0.62809917]\n",
      "CV accuracy: 0.592 +/- 0.031\n"
     ]
    }
   ],
   "source": [
    "lda = LDA()\n",
    "lda.fit(X_train,y_train)\n",
    "scores = cross_val_score(estimator=lda,\n",
    "                             X=X_transform,\n",
    "                             y=y_label,\n",
    "                             cv=10,\n",
    "                             n_jobs=1)\n",
    "print('CV accuracy scores: %s' % scores)\n",
    "print('CV accuracy: %.3f +/- %.3f' % (np.mean(scores), np.std(scores)))"
   ]
  }
 ],
 "metadata": {
  "kernelspec": {
   "display_name": "Python 3",
   "language": "python",
   "name": "python3"
  },
  "language_info": {
   "codemirror_mode": {
    "name": "ipython",
    "version": 3
   },
   "file_extension": ".py",
   "mimetype": "text/x-python",
   "name": "python",
   "nbconvert_exporter": "python",
   "pygments_lexer": "ipython3",
   "version": "3.7.6"
  }
 },
 "nbformat": 4,
 "nbformat_minor": 4
}
