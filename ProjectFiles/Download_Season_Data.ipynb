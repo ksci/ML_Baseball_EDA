{
 "cells": [
  {
   "cell_type": "markdown",
   "metadata": {},
   "source": [
    "# Data Cleaning\n",
    "## Procedure:\n",
    "1. Import raw csvs\n",
    "2. Remove extraneous columns\n",
    "3. Convert streak information into integers\n",
    "4. Create a dictionary of dataframes\n",
    "5. Once dictionary is complete, save all csvs"
   ]
  },
  {
   "cell_type": "code",
   "execution_count": null,
   "metadata": {},
   "outputs": [],
   "source": [
    "import pandas as pd\n",
    "def get_teams():\n",
    "    teams = [item.strip() for item in open(\"all_teams.txt\",'r')]\n",
    "    return teams\n",
    "\n",
    "get_teams()"
   ]
  },
  {
   "cell_type": "code",
   "execution_count": null,
   "metadata": {},
   "outputs": [],
   "source": [
    "def create_truncated_csv(teams):\n",
    "    #takes a list of team names, opens the cooresponding files, truncates the data and outputs a new file\n",
    "    for team in teams:    \n",
    "            print(f'TeamResults\\\\{team.strip()}_2019.csv')\n",
    "            table = pd.read_csv(f'TeamResults\\\\csv\\\\{team.strip()}_2019.csv')\n",
    "            new = table.drop([\"Date\", \"Unnamed: 2\", \"R\", \"RA\", \"Inn\", \"Rank\", \"GB\", \"Win\", \"Loss\", \"Save\", \"Time\", \"D/N\", \"Attendance\", \"Orig. Scheduled\" ], axis=1)\n",
    "            new.to_csv(f'TeamResults\\\\{team.strip()}_2019_truncated.csv', index=False, encoding='utf8')\n",
    "#create_truncated_csv(get_teams())"
   ]
  },
  {
   "cell_type": "markdown",
   "metadata": {},
   "source": [
    "### Convert streak data into integer values"
   ]
  },
  {
   "cell_type": "code",
   "execution_count": null,
   "metadata": {},
   "outputs": [],
   "source": [
    "def convert_streak_to_int(col):\n",
    "    \"\"\"\n",
    "    takes a string or list of streak data in the form of '-' & '+' signs and outputs in integer format.  It is assumed that there will be no mixing of + & -\n",
    "    return string or list of ints representing the win streak at that time\n",
    "    \"\"\"\n",
    "    if isinstance(col,str):\n",
    "        streak = [col]\n",
    "    elif isinstance(col,list):\n",
    "        streak = col\n",
    "    else:\n",
    "        raise Exception(f\"parameter given was of {type(col)} when it should be string or list\")\n",
    "    \n",
    "    streak_int = []\n",
    "    for record in streak:\n",
    "        streak = len(record)\n",
    "        if record[0] =='-':\n",
    "            streak = -streak\n",
    "        streak_int.append(streak)    \n",
    "        \n",
    "    if len(col) == 1:\n",
    "        return streak_int[0]\n",
    "    else:\n",
    "        return streak_int\n",
    "    \n",
    "def change_column(df, col, new):\n",
    "    #parameters: dataframe, column name, list of new values\n",
    "    df[col] = new\n",
    "    return df\n",
    "\n",
    "def home_away_game_list_maker(col):\n",
    "    \"\"\"\n",
    "    Convert a column from NaN and '@' symbols into 1/0 for home or away\"\"\"\n",
    "    if isinstance(col,list):\n",
    "        loc = []\n",
    "    else:\n",
    "        raise Exception(f\"parameter given was of {type(col)} when it should be string or list\")\n",
    "    for item in col:\n",
    "        if item == \"@\":\n",
    "            loc.append(0)\n",
    "        else:\n",
    "            loc.append(1)\n",
    "    return loc                     \n",
    " \n",
    "\n",
    "\"\"\"\n",
    "def create_int_streak():\n",
    "    #This function need only be run once\n",
    "    for team in get_teams():\n",
    "        t = pd.read_csv(f'TeamResults\\\\{team.strip()}_2019_truncated.csv')\n",
    "        new = convert_streak_to_int(list(t[\"Streak\"]))\n",
    "        t2 = change_column(t,\"Streak\",new)\n",
    "        t2.to_csv(f'TeamResults\\\\new\\\\{team.strip()}_2019_truncated.csv', index=False)\n",
    "\"\"\""
   ]
  },
  {
   "cell_type": "code",
   "execution_count": null,
   "metadata": {},
   "outputs": [],
   "source": [
    "season['PHI'][\"Home_Game\"]"
   ]
  },
  {
   "cell_type": "code",
   "execution_count": null,
   "metadata": {},
   "outputs": [],
   "source": [
    "for k,v in season.items():\n",
    "    #season[k] = v.rename(columns={\"Unnamed: 4\": 'Home_Game'})\n",
    "    #print(v)\n",
    "    converted = home_away_game_list_maker(v[\"Home_Game\"].tolist())\n",
    "    #print(converted)\n",
    "    change_column(v,\"Home_Game\",converted)\n",
    "    #print(df)\n",
    "\n"
   ]
  },
  {
   "cell_type": "markdown",
   "metadata": {},
   "source": [
    "## Create a dictionary of all teams"
   ]
  },
  {
   "cell_type": "code",
   "execution_count": null,
   "metadata": {},
   "outputs": [],
   "source": [
    "def create_team_dictionary():\n",
    "    season = {}\n",
    "    teams = get_teams()\n",
    "    for team in teams:\n",
    "        t = pd.read_csv(f'TeamResults\\\\all_truncated_csv_WL\\\\{team.strip()}_2019_truncated.csv')\n",
    "        season[team.strip()] = t\n",
    "    return season\n",
    "\n",
    "season = create_team_dictionary()\n",
    "season"
   ]
  },
  {
   "cell_type": "code",
   "execution_count": null,
   "metadata": {},
   "outputs": [],
   "source": [
    "def remove_first_column():\n",
    "    for team in get_teams():\n",
    "        t = pd.read_csv(f'TeamResults\\\\{team.strip()}_2019_truncated.csv')\n",
    "        print(t.drop(t.iloc[:,0:1],axis=1))\n",
    "        t.drop(t.iloc[:,0:1], axis=1).to_csv(f'TeamResults\\\\{team.strip()}_2019_truncated.csv', index=False)\n",
    "        #t.to_csv(f'TeamResults\\\\{team.strip()}_2019_truncated.csv')"
   ]
  },
  {
   "cell_type": "markdown",
   "metadata": {},
   "source": [
    "### Convert some date values into win-loss records"
   ]
  },
  {
   "cell_type": "code",
   "execution_count": null,
   "metadata": {
    "jupyter": {
     "source_hidden": true
    }
   },
   "outputs": [],
   "source": [
    "def convert_date_to_record(col):\n",
    "    import re\n",
    "    new = []\n",
    "    for i in range(len(col)):\n",
    "        found = re.search(r'([A-Z])\\w+',col[i])\n",
    "        if found:\n",
    "            win = text_to_num(found.group(0))            \n",
    "            loss = re.search(r'(\\d+)',col[i]).group(0)\n",
    "            print(loss)\n",
    "            if loss == '00':\n",
    "                loss = '0'\n",
    "            new.append(f'{win}-{loss}')\n",
    "        if col[i][-2:] == '00':\n",
    "            new.append(f'{col[i][:-2]}{0}')\n",
    "        else:\n",
    "            new.append(col[i])\n",
    "\n",
    "    return new\n",
    "\n",
    "def remove_double_zeros():\n",
    "    return 0\n",
    "def text_to_num(text):\n",
    "    switcher = {\n",
    "     \"Jan\" : 1,\n",
    "     \"Feb\" : 2,\n",
    "     \"Mar\" : 3,\n",
    "     \"Apr\" : 4,\n",
    "     \"May\" : 5,\n",
    "     \"Jun\" : 6,\n",
    "     \"Jul\" : 7,\n",
    "     \"Aug\" : 8,\n",
    "     \"Sep\" : 9,\n",
    "      \"Oct\": 10,\n",
    "      \"Nov\": 11,\n",
    "      \"Dec\": 12\n",
    "    }\n",
    "    return switcher[text]\n",
    "def remove_all_but_first_char(col):\n",
    "    new = []\n",
    "    for i in range(len(col)):\n",
    "        new.append(col[i][0])\n",
    "    return new\n",
    "\n",
    "def remove_date_values(dictionary):\n",
    "    for team,df in dictionary.items():\n",
    "        new = convert_date_to_record(df[\"W-L\"])\n",
    "        dictionary[team] = change_column(df,\"W-L\",new)\n",
    "\n",
    "    \n",
    "def clean_W_L(dictionary):\n",
    "    for team,df in dictionary.items():\n",
    "        new = remove_all_but_first_char(df[\"W/L\"])\n",
    "        dictionary[team] = change_column(df,\"W/L\",new)\n",
    "\n",
    "    \n",
    "#remove_date_values(season)\n",
    "clean_W_L(season)\n",
    "\n"
   ]
  },
  {
   "cell_type": "code",
   "execution_count": 84,
   "metadata": {},
   "outputs": [],
   "source": [
    "def save_season_to_csv(season):\n",
    "    for k,v in season.items():\n",
    "        v.to_csv(f'TeamResults\\\\all_truncated_csv_WL\\\\{k.strip()}_2019_truncated.csv', index=False)\n",
    "    "
   ]
  },
  {
   "cell_type": "code",
   "execution_count": 85,
   "metadata": {},
   "outputs": [],
   "source": [
    "save_season_to_csv(season)"
   ]
  },
  {
   "cell_type": "code",
   "execution_count": null,
   "metadata": {},
   "outputs": [],
   "source": [
    "season['SEA'][\"Home_Game\"].tolist()"
   ]
  },
  {
   "cell_type": "code",
   "execution_count": null,
   "metadata": {},
   "outputs": [],
   "source": [
    "def convert_WL_Percent(rec):\n",
    "    \"\"\"\n",
    "    Parameter: string or list containg W-L data, separated by a hyphen\n",
    "    Return: float(s) containing win percentage(s)\"\"\"\n",
    "    if isinstance(rec,str):\n",
    "        rec = [rec]\n",
    "    elif isinstance(rec,list):\n",
    "        rec = rec\n",
    "    else:\n",
    "        raise Exception(f\"parameter given was of {type(rec)} when it should be string or list\")\n",
    "    \n",
    "    percent = []\n",
    "    for record in rec:\n",
    "        record = record.split('-')\n",
    "        win = float(record[0])\n",
    "        loss = float(record[1])\n",
    "        total = win + loss\n",
    "        percent.append(win / total)\n",
    "        \n",
    "    if len(percent) == 1:\n",
    "        return percent[0]\n",
    "    else:\n",
    "        return percent\n",
    "\n",
    "def convert_WL_Int(result):\n",
    "    \"\"\"\n",
    "    Parameter: takes a string or list of \"W\" or \"L\" data and converts that to 1 and 0\n",
    "    This is essentially a custom labeller\n",
    "    returns list of outcomes in int form\"\"\"\n",
    "    if isinstance(result,str):\n",
    "        results = [result]\n",
    "    elif isinstance(result,list):\n",
    "        results = result\n",
    "    else:\n",
    "        raise Exception(f\"parameter given was of {type(result)} when it should be string or list\")\n",
    "    \n",
    "    outcomes = []\n",
    "    for result in results:\n",
    "        if result ==\"W\":\n",
    "            outcomes.append(1)\n",
    "        else:\n",
    "            outcomes.append(0)\n",
    "\n",
    "    if len(outcomes) == 1:\n",
    "        return outcomes[0]\n",
    "    else:\n",
    "        return outcomes"
   ]
  },
  {
   "cell_type": "code",
   "execution_count": null,
   "metadata": {},
   "outputs": [],
   "source": [
    "record = [item for item in season[\"SEA\"][\"W-L\"]]\n",
    "convert_WL_Percent(record)"
   ]
  },
  {
   "cell_type": "code",
   "execution_count": null,
   "metadata": {},
   "outputs": [],
   "source": [
    "import numpy as np\n",
    "result = [item for item in season[\"SEA\"][\"W/L\"]]\n",
    "np.array(convert_WL_Int(result))"
   ]
  },
  {
   "cell_type": "code",
   "execution_count": null,
   "metadata": {},
   "outputs": [],
   "source": [
    "def getProbOfWin(season, team):\n",
    "#calculate both teams winning percentage\n",
    "#which team has the higher percentage?  Did they win?  Counting.\n",
    "#always stick with the home team\n",
    "#outcomes: home higher - win: W++, home higher - loss: L++, home lower - win: L++, home lower - loss:W++\n",
    "    T = 0\n",
    "    F = 0\n",
    "    for index,item in season[team].iterrows():\n",
    "        if item.loc[\"Opp\"] not in season:\n",
    "            continue\n",
    "        homeTeamWinPercentage = convert_WL_Percent(item.loc[\"W-L\"])\n",
    "        awayTeamWinPercentage = convert_WL_Percent(season[item.loc[\"Opp\"]].loc[index][\"W-L\"])\n",
    "        gameResult = convert_WL_Int(item.loc[\"W/L\"])\n",
    "        \n",
    "        if homeTeamWinPercentage >= awayTeamWinPercentage:\n",
    "            if gameResult == 1:\n",
    "                T += 1\n",
    "            else:\n",
    "                F += 1\n",
    "        else:\n",
    "            if gameResult == 1:\n",
    "                F += 1\n",
    "            else:\n",
    "                T += 1   \n",
    "    \n",
    "    \n",
    "    return(T,F)"
   ]
  },
  {
   "cell_type": "code",
   "execution_count": null,
   "metadata": {},
   "outputs": [],
   "source": [
    "probability = {}\n",
    "for team in get_teams():\n",
    "    win,loss = getProbOfWin(season,team)\n",
    "    probability[team] = (convert_WL_Percent(season[team].iloc[-1][\"W-L\"]),win / (win+loss))\n",
    "    \n",
    "probability\n",
    "    "
   ]
  },
  {
   "cell_type": "code",
   "execution_count": null,
   "metadata": {},
   "outputs": [],
   "source": [
    "import matplotlib.pyplot as plt\n",
    "X_values = []\n",
    "y_values = []\n",
    "for key, value in probability.items():\n",
    "    X_values.append(value[0])\n",
    "    y_values.append(value[1])\n",
    "\n",
    "plt.figure(figsize= (20,10))\n",
    "plt.title(\"Probability best team wins vs team record\")\n",
    "plt.ylabel(\"Probability best team wins\")\n",
    "plt.xlabel(\"2019 Season winning percentage\")\n",
    "\n",
    "plt.scatter(X_values,y_values,color='r')\n",
    "plt.show()"
   ]
  }
 ],
 "metadata": {
  "kernelspec": {
   "display_name": "Python 3",
   "language": "python",
   "name": "python3"
  },
  "language_info": {
   "codemirror_mode": {
    "name": "ipython",
    "version": 3
   },
   "file_extension": ".py",
   "mimetype": "text/x-python",
   "name": "python",
   "nbconvert_exporter": "python",
   "pygments_lexer": "ipython3",
   "version": "3.7.6"
  }
 },
 "nbformat": 4,
 "nbformat_minor": 4
}
